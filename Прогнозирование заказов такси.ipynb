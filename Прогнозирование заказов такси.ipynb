{
 "cells": [
  {
   "cell_type": "markdown",
   "metadata": {},
   "source": [
    "#  Прогнозирование заказов такси"
   ]
  },
  {
   "cell_type": "markdown",
   "metadata": {},
   "source": [
    "## Подготовка"
   ]
  },
  {
   "cell_type": "code",
   "execution_count": 1,
   "metadata": {},
   "outputs": [],
   "source": [
    "import pandas as pd\n",
    "import numpy as np \n",
    "import seaborn as sns\n",
    "from matplotlib import pyplot as plt\n",
    "plt.rcParams[\"figure.figsize\"] = (15,10)\n",
    "\n",
    "from statsmodels.tsa.seasonal import seasonal_decompose\n",
    "\n",
    "from sklearn.linear_model import LinearRegression\n",
    "from catboost import CatBoostRegressor, Pool\n",
    "from sklearn.ensemble import RandomForestRegressor\n",
    "\n",
    "from sklearn.model_selection import GridSearchCV, RandomizedSearchCV, train_test_split, TimeSeriesSplit, cross_val_score    \n",
    "from sklearn.metrics import mean_squared_error"
   ]
  },
  {
   "cell_type": "code",
   "execution_count": 2,
   "metadata": {},
   "outputs": [],
   "source": [
    "# Импортируем данные, сразу переведем колонку datetime к типу дататайм и переведем в индекс\n",
    "data = pd.read_csv('/datasets/taxi.csv', parse_dates=[0], index_col=[0]) "
   ]
  },
  {
   "cell_type": "code",
   "execution_count": 3,
   "metadata": {},
   "outputs": [
    {
     "data": {
      "text/html": [
       "<div>\n",
       "<style scoped>\n",
       "    .dataframe tbody tr th:only-of-type {\n",
       "        vertical-align: middle;\n",
       "    }\n",
       "\n",
       "    .dataframe tbody tr th {\n",
       "        vertical-align: top;\n",
       "    }\n",
       "\n",
       "    .dataframe thead th {\n",
       "        text-align: right;\n",
       "    }\n",
       "</style>\n",
       "<table border=\"1\" class=\"dataframe\">\n",
       "  <thead>\n",
       "    <tr style=\"text-align: right;\">\n",
       "      <th></th>\n",
       "      <th>num_orders</th>\n",
       "    </tr>\n",
       "    <tr>\n",
       "      <th>datetime</th>\n",
       "      <th></th>\n",
       "    </tr>\n",
       "  </thead>\n",
       "  <tbody>\n",
       "    <tr>\n",
       "      <th>2018-03-01 00:00:00</th>\n",
       "      <td>9</td>\n",
       "    </tr>\n",
       "    <tr>\n",
       "      <th>2018-03-01 00:10:00</th>\n",
       "      <td>14</td>\n",
       "    </tr>\n",
       "    <tr>\n",
       "      <th>2018-03-01 00:20:00</th>\n",
       "      <td>28</td>\n",
       "    </tr>\n",
       "    <tr>\n",
       "      <th>2018-03-01 00:30:00</th>\n",
       "      <td>20</td>\n",
       "    </tr>\n",
       "    <tr>\n",
       "      <th>2018-03-01 00:40:00</th>\n",
       "      <td>32</td>\n",
       "    </tr>\n",
       "    <tr>\n",
       "      <th>...</th>\n",
       "      <td>...</td>\n",
       "    </tr>\n",
       "    <tr>\n",
       "      <th>2018-08-31 23:10:00</th>\n",
       "      <td>32</td>\n",
       "    </tr>\n",
       "    <tr>\n",
       "      <th>2018-08-31 23:20:00</th>\n",
       "      <td>24</td>\n",
       "    </tr>\n",
       "    <tr>\n",
       "      <th>2018-08-31 23:30:00</th>\n",
       "      <td>27</td>\n",
       "    </tr>\n",
       "    <tr>\n",
       "      <th>2018-08-31 23:40:00</th>\n",
       "      <td>39</td>\n",
       "    </tr>\n",
       "    <tr>\n",
       "      <th>2018-08-31 23:50:00</th>\n",
       "      <td>53</td>\n",
       "    </tr>\n",
       "  </tbody>\n",
       "</table>\n",
       "<p>26496 rows × 1 columns</p>\n",
       "</div>"
      ],
      "text/plain": [
       "                     num_orders\n",
       "datetime                       \n",
       "2018-03-01 00:00:00           9\n",
       "2018-03-01 00:10:00          14\n",
       "2018-03-01 00:20:00          28\n",
       "2018-03-01 00:30:00          20\n",
       "2018-03-01 00:40:00          32\n",
       "...                         ...\n",
       "2018-08-31 23:10:00          32\n",
       "2018-08-31 23:20:00          24\n",
       "2018-08-31 23:30:00          27\n",
       "2018-08-31 23:40:00          39\n",
       "2018-08-31 23:50:00          53\n",
       "\n",
       "[26496 rows x 1 columns]"
      ]
     },
     "execution_count": 3,
     "metadata": {},
     "output_type": "execute_result"
    }
   ],
   "source": [
    "data"
   ]
  },
  {
   "cell_type": "markdown",
   "metadata": {},
   "source": [
    "На входе имеем данные с 1 марта по 31 августа"
   ]
  },
  {
   "cell_type": "code",
   "execution_count": 4,
   "metadata": {},
   "outputs": [
    {
     "name": "stdout",
     "output_type": "stream",
     "text": [
      "<class 'pandas.core.frame.DataFrame'>\n",
      "DatetimeIndex: 26496 entries, 2018-03-01 00:00:00 to 2018-08-31 23:50:00\n",
      "Data columns (total 1 columns):\n",
      " #   Column      Non-Null Count  Dtype\n",
      "---  ------      --------------  -----\n",
      " 0   num_orders  26496 non-null  int64\n",
      "dtypes: int64(1)\n",
      "memory usage: 414.0 KB\n"
     ]
    }
   ],
   "source": [
    "data.info()"
   ]
  },
  {
   "cell_type": "code",
   "execution_count": 5,
   "metadata": {},
   "outputs": [],
   "source": [
    "# ресемплинируем данные по одному часу\n",
    "data = data.resample('1H').sum()"
   ]
  },
  {
   "cell_type": "code",
   "execution_count": 6,
   "metadata": {},
   "outputs": [],
   "source": [
    "data_rolling = data.copy()"
   ]
  },
  {
   "cell_type": "code",
   "execution_count": 7,
   "metadata": {},
   "outputs": [],
   "source": [
    "# скользящее среднее\n",
    "data_rolling['rolling_mean'] = data_rolling.num_orders.rolling(24).mean()"
   ]
  },
  {
   "cell_type": "code",
   "execution_count": 8,
   "metadata": {},
   "outputs": [],
   "source": [
    "# скользящее стандартное отклонение\n",
    "data_rolling['std'] = data_rolling.num_orders.rolling(24).std()"
   ]
  },
  {
   "cell_type": "code",
   "execution_count": 9,
   "metadata": {
    "scrolled": false
   },
   "outputs": [
    {
     "data": {
      "text/html": [
       "<div>\n",
       "<style scoped>\n",
       "    .dataframe tbody tr th:only-of-type {\n",
       "        vertical-align: middle;\n",
       "    }\n",
       "\n",
       "    .dataframe tbody tr th {\n",
       "        vertical-align: top;\n",
       "    }\n",
       "\n",
       "    .dataframe thead th {\n",
       "        text-align: right;\n",
       "    }\n",
       "</style>\n",
       "<table border=\"1\" class=\"dataframe\">\n",
       "  <thead>\n",
       "    <tr style=\"text-align: right;\">\n",
       "      <th></th>\n",
       "      <th>num_orders</th>\n",
       "      <th>rolling_mean</th>\n",
       "      <th>std</th>\n",
       "    </tr>\n",
       "    <tr>\n",
       "      <th>datetime</th>\n",
       "      <th></th>\n",
       "      <th></th>\n",
       "      <th></th>\n",
       "    </tr>\n",
       "  </thead>\n",
       "  <tbody>\n",
       "    <tr>\n",
       "      <th>2018-03-01 00:00:00</th>\n",
       "      <td>124</td>\n",
       "      <td>NaN</td>\n",
       "      <td>NaN</td>\n",
       "    </tr>\n",
       "    <tr>\n",
       "      <th>2018-03-01 01:00:00</th>\n",
       "      <td>85</td>\n",
       "      <td>NaN</td>\n",
       "      <td>NaN</td>\n",
       "    </tr>\n",
       "    <tr>\n",
       "      <th>2018-03-01 02:00:00</th>\n",
       "      <td>71</td>\n",
       "      <td>NaN</td>\n",
       "      <td>NaN</td>\n",
       "    </tr>\n",
       "    <tr>\n",
       "      <th>2018-03-01 03:00:00</th>\n",
       "      <td>66</td>\n",
       "      <td>NaN</td>\n",
       "      <td>NaN</td>\n",
       "    </tr>\n",
       "    <tr>\n",
       "      <th>2018-03-01 04:00:00</th>\n",
       "      <td>43</td>\n",
       "      <td>NaN</td>\n",
       "      <td>NaN</td>\n",
       "    </tr>\n",
       "    <tr>\n",
       "      <th>...</th>\n",
       "      <td>...</td>\n",
       "      <td>...</td>\n",
       "      <td>...</td>\n",
       "    </tr>\n",
       "    <tr>\n",
       "      <th>2018-08-31 19:00:00</th>\n",
       "      <td>136</td>\n",
       "      <td>167.541667</td>\n",
       "      <td>63.268908</td>\n",
       "    </tr>\n",
       "    <tr>\n",
       "      <th>2018-08-31 20:00:00</th>\n",
       "      <td>154</td>\n",
       "      <td>168.041667</td>\n",
       "      <td>63.105487</td>\n",
       "    </tr>\n",
       "    <tr>\n",
       "      <th>2018-08-31 21:00:00</th>\n",
       "      <td>159</td>\n",
       "      <td>166.416667</td>\n",
       "      <td>62.801908</td>\n",
       "    </tr>\n",
       "    <tr>\n",
       "      <th>2018-08-31 22:00:00</th>\n",
       "      <td>223</td>\n",
       "      <td>169.125000</td>\n",
       "      <td>63.816525</td>\n",
       "    </tr>\n",
       "    <tr>\n",
       "      <th>2018-08-31 23:00:00</th>\n",
       "      <td>205</td>\n",
       "      <td>167.416667</td>\n",
       "      <td>62.197383</td>\n",
       "    </tr>\n",
       "  </tbody>\n",
       "</table>\n",
       "<p>4416 rows × 3 columns</p>\n",
       "</div>"
      ],
      "text/plain": [
       "                     num_orders  rolling_mean        std\n",
       "datetime                                                \n",
       "2018-03-01 00:00:00         124           NaN        NaN\n",
       "2018-03-01 01:00:00          85           NaN        NaN\n",
       "2018-03-01 02:00:00          71           NaN        NaN\n",
       "2018-03-01 03:00:00          66           NaN        NaN\n",
       "2018-03-01 04:00:00          43           NaN        NaN\n",
       "...                         ...           ...        ...\n",
       "2018-08-31 19:00:00         136    167.541667  63.268908\n",
       "2018-08-31 20:00:00         154    168.041667  63.105487\n",
       "2018-08-31 21:00:00         159    166.416667  62.801908\n",
       "2018-08-31 22:00:00         223    169.125000  63.816525\n",
       "2018-08-31 23:00:00         205    167.416667  62.197383\n",
       "\n",
       "[4416 rows x 3 columns]"
      ]
     },
     "execution_count": 9,
     "metadata": {},
     "output_type": "execute_result"
    }
   ],
   "source": [
    "data_rolling"
   ]
  },
  {
   "cell_type": "markdown",
   "metadata": {},
   "source": [
    "## Анализ"
   ]
  },
  {
   "cell_type": "code",
   "execution_count": 10,
   "metadata": {
    "scrolled": false
   },
   "outputs": [
    {
     "data": {
      "image/png": "[encoded data removed]",
      "text/plain": [
       "<Figure size 1080x720 with 1 Axes>"
      ]
     },
     "metadata": {
      "needs_background": "light"
     },
     "output_type": "display_data"
    }
   ],
   "source": [
    "data_rolling.num_orders.plot()\n",
    "plt.title('График ресемплирования по одному часу')\n",
    "plt.show();"
   ]
  },
  {
   "cell_type": "code",
   "execution_count": 11,
   "metadata": {
    "scrolled": false
   },
   "outputs": [
    {
     "data": {
      "image/png": "[encoded data removed]",
      "text/plain": [
       "<Figure size 1080x720 with 1 Axes>"
      ]
     },
     "metadata": {
      "needs_background": "light"
     },
     "output_type": "display_data"
    }
   ],
   "source": [
    "data_rolling.iloc[:,1:].plot()\n",
    "plt.title('График ресемплирования по одному часу (rolling_mean и std)')\n",
    "plt.show();"
   ]
  },
  {
   "cell_type": "markdown",
   "metadata": {},
   "source": [
    "У данного графика меняется среднее значение, поэтому выборка не стационарна. В данных присутствуют шумы."
   ]
  },
  {
   "cell_type": "code",
   "execution_count": 12,
   "metadata": {},
   "outputs": [],
   "source": [
    "data_rolling.sort_index(inplace=True)"
   ]
  },
  {
   "cell_type": "code",
   "execution_count": 13,
   "metadata": {},
   "outputs": [],
   "source": [
    "decomposed = seasonal_decompose(data_rolling.num_orders)"
   ]
  },
  {
   "cell_type": "code",
   "execution_count": 14,
   "metadata": {
    "scrolled": false
   },
   "outputs": [
    {
     "data": {
      "image/png": "[encoded data removed]",
      "text/plain": [
       "<Figure size 1080x720 with 1 Axes>"
      ]
     },
     "metadata": {
      "needs_background": "light"
     },
     "output_type": "display_data"
    }
   ],
   "source": [
    "decomposed.trend.plot()\n",
    "plt.title('Тренд')\n",
    "plt.show();"
   ]
  },
  {
   "cell_type": "markdown",
   "metadata": {},
   "source": [
    "Видим повышение компонены со временем"
   ]
  },
  {
   "cell_type": "code",
   "execution_count": 15,
   "metadata": {
    "scrolled": false
   },
   "outputs": [
    {
     "data": {
      "image/png": "[encoded data removed]",
      "text/plain": [
       "<Figure size 1080x720 with 1 Axes>"
      ]
     },
     "metadata": {
      "needs_background": "light"
     },
     "output_type": "display_data"
    }
   ],
   "source": [
    "decomposed.resid.plot();\n",
    "plt.title('Остаток декомпозиции')\n",
    "plt.show();"
   ]
  },
  {
   "cell_type": "code",
   "execution_count": 16,
   "metadata": {
    "scrolled": false
   },
   "outputs": [
    {
     "data": {
      "image/png": "[encoded data removed]",
      "text/plain": [
       "<Figure size 1080x720 with 1 Axes>"
      ]
     },
     "metadata": {
      "needs_background": "light"
     },
     "output_type": "display_data"
    }
   ],
   "source": [
    "decomposed.seasonal['2018-03-01': '2018-03-02'].plot(ax=plt.gca());\n",
    "plt.title('График сезонности за день')\n",
    "plt.show();"
   ]
  },
  {
   "cell_type": "code",
   "execution_count": 17,
   "metadata": {
    "scrolled": false
   },
   "outputs": [
    {
     "data": {
      "image/png": "[encoded data removed]",
      "text/plain": [
       "<Figure size 1080x720 with 1 Axes>"
      ]
     },
     "metadata": {
      "needs_background": "light"
     },
     "output_type": "display_data"
    }
   ],
   "source": [
    "decomposed.seasonal['2018-03-01': '2018-03-07'].plot(ax=plt.gca());\n",
    "plt.title('График сезонности за неделю')\n",
    "plt.show();"
   ]
  },
  {
   "cell_type": "markdown",
   "metadata": {},
   "source": [
    "Проверим разность временного ряда"
   ]
  },
  {
   "cell_type": "code",
   "execution_count": 18,
   "metadata": {},
   "outputs": [],
   "source": [
    "data_shift = data - data.shift()"
   ]
  },
  {
   "cell_type": "code",
   "execution_count": 19,
   "metadata": {},
   "outputs": [],
   "source": [
    "data_shift['rolling_mean'] = data_shift.num_orders.rolling(24).mean()"
   ]
  },
  {
   "cell_type": "code",
   "execution_count": 20,
   "metadata": {},
   "outputs": [],
   "source": [
    "data_shift['std'] = data_shift.num_orders.rolling(24).std()"
   ]
  },
  {
   "cell_type": "code",
   "execution_count": 21,
   "metadata": {},
   "outputs": [
    {
     "data": {
      "image/png": "[encoded data removed]",
      "text/plain": [
       "<Figure size 1080x720 with 1 Axes>"
      ]
     },
     "metadata": {
      "needs_background": "light"
     },
     "output_type": "display_data"
    }
   ],
   "source": [
    "data_shift.plot()\n",
    "plt.title('Разность временного ряда')\n",
    "plt.show();"
   ]
  },
  {
   "cell_type": "markdown",
   "metadata": {},
   "source": [
    "На входе мы получили данные по заказам такси с 1 марта по 31 августа 2018 года, ресемплинировали данные по одному часу, добавили скользящее среднее и скользящее стандартное отклонение, построили информативные графики. Выяснили, что выборка не стационарна, так как со временем меняется среднее значение, а еще в данных присутствуют шумы. Так же видно, что пик заказов выпадает на начало дня (ночью), к утру происходит спад, в течение дня заказы идут с периодической последовательностью."
   ]
  },
  {
   "cell_type": "markdown",
   "metadata": {},
   "source": [
    "## Обучение"
   ]
  },
  {
   "cell_type": "code",
   "execution_count": 22,
   "metadata": {},
   "outputs": [
    {
     "data": {
      "text/html": [
       "<div>\n",
       "<style scoped>\n",
       "    .dataframe tbody tr th:only-of-type {\n",
       "        vertical-align: middle;\n",
       "    }\n",
       "\n",
       "    .dataframe tbody tr th {\n",
       "        vertical-align: top;\n",
       "    }\n",
       "\n",
       "    .dataframe thead th {\n",
       "        text-align: right;\n",
       "    }\n",
       "</style>\n",
       "<table border=\"1\" class=\"dataframe\">\n",
       "  <thead>\n",
       "    <tr style=\"text-align: right;\">\n",
       "      <th></th>\n",
       "      <th>num_orders</th>\n",
       "    </tr>\n",
       "    <tr>\n",
       "      <th>datetime</th>\n",
       "      <th></th>\n",
       "    </tr>\n",
       "  </thead>\n",
       "  <tbody>\n",
       "    <tr>\n",
       "      <th>2018-03-01 00:00:00</th>\n",
       "      <td>124</td>\n",
       "    </tr>\n",
       "    <tr>\n",
       "      <th>2018-03-01 01:00:00</th>\n",
       "      <td>85</td>\n",
       "    </tr>\n",
       "    <tr>\n",
       "      <th>2018-03-01 02:00:00</th>\n",
       "      <td>71</td>\n",
       "    </tr>\n",
       "  </tbody>\n",
       "</table>\n",
       "</div>"
      ],
      "text/plain": [
       "                     num_orders\n",
       "datetime                       \n",
       "2018-03-01 00:00:00         124\n",
       "2018-03-01 01:00:00          85\n",
       "2018-03-01 02:00:00          71"
      ]
     },
     "execution_count": 22,
     "metadata": {},
     "output_type": "execute_result"
    }
   ],
   "source": [
    "data.head(3)"
   ]
  },
  {
   "cell_type": "markdown",
   "metadata": {},
   "source": [
    "Создадим новые признаки для построения моделей."
   ]
  },
  {
   "cell_type": "code",
   "execution_count": 23,
   "metadata": {},
   "outputs": [],
   "source": [
    "def make_features(data, max_lag, rolling_mean_size):\n",
    "\n",
    "    data['day'] = data.index.day\n",
    "    data['dayofweek'] = data.index.dayofweek\n",
    "    \n",
    "    for lag in range(1, max_lag + 1):\n",
    "        data['lag_{}'.format(lag)] = data['num_orders'].shift(lag)\n",
    "\n",
    "    data['rolling_mean'] = data['num_orders'].shift().rolling(rolling_mean_size).mean()"
   ]
  },
  {
   "cell_type": "code",
   "execution_count": 24,
   "metadata": {},
   "outputs": [],
   "source": [
    "make_features(data,24,20)"
   ]
  },
  {
   "cell_type": "code",
   "execution_count": 25,
   "metadata": {},
   "outputs": [
    {
     "data": {
      "text/html": [
       "<div>\n",
       "<style scoped>\n",
       "    .dataframe tbody tr th:only-of-type {\n",
       "        vertical-align: middle;\n",
       "    }\n",
       "\n",
       "    .dataframe tbody tr th {\n",
       "        vertical-align: top;\n",
       "    }\n",
       "\n",
       "    .dataframe thead th {\n",
       "        text-align: right;\n",
       "    }\n",
       "</style>\n",
       "<table border=\"1\" class=\"dataframe\">\n",
       "  <thead>\n",
       "    <tr style=\"text-align: right;\">\n",
       "      <th></th>\n",
       "      <th>num_orders</th>\n",
       "      <th>day</th>\n",
       "      <th>dayofweek</th>\n",
       "      <th>lag_1</th>\n",
       "      <th>lag_2</th>\n",
       "      <th>lag_3</th>\n",
       "      <th>lag_4</th>\n",
       "      <th>lag_5</th>\n",
       "      <th>lag_6</th>\n",
       "      <th>lag_7</th>\n",
       "      <th>...</th>\n",
       "      <th>lag_16</th>\n",
       "      <th>lag_17</th>\n",
       "      <th>lag_18</th>\n",
       "      <th>lag_19</th>\n",
       "      <th>lag_20</th>\n",
       "      <th>lag_21</th>\n",
       "      <th>lag_22</th>\n",
       "      <th>lag_23</th>\n",
       "      <th>lag_24</th>\n",
       "      <th>rolling_mean</th>\n",
       "    </tr>\n",
       "    <tr>\n",
       "      <th>datetime</th>\n",
       "      <th></th>\n",
       "      <th></th>\n",
       "      <th></th>\n",
       "      <th></th>\n",
       "      <th></th>\n",
       "      <th></th>\n",
       "      <th></th>\n",
       "      <th></th>\n",
       "      <th></th>\n",
       "      <th></th>\n",
       "      <th></th>\n",
       "      <th></th>\n",
       "      <th></th>\n",
       "      <th></th>\n",
       "      <th></th>\n",
       "      <th></th>\n",
       "      <th></th>\n",
       "      <th></th>\n",
       "      <th></th>\n",
       "      <th></th>\n",
       "      <th></th>\n",
       "    </tr>\n",
       "  </thead>\n",
       "  <tbody>\n",
       "    <tr>\n",
       "      <th>2018-03-02 00:00:00</th>\n",
       "      <td>90</td>\n",
       "      <td>2</td>\n",
       "      <td>4</td>\n",
       "      <td>58.0</td>\n",
       "      <td>113.0</td>\n",
       "      <td>66.0</td>\n",
       "      <td>61.0</td>\n",
       "      <td>45.0</td>\n",
       "      <td>73.0</td>\n",
       "      <td>44.0</td>\n",
       "      <td>...</td>\n",
       "      <td>34.0</td>\n",
       "      <td>15.0</td>\n",
       "      <td>12.0</td>\n",
       "      <td>6.0</td>\n",
       "      <td>43.0</td>\n",
       "      <td>66.0</td>\n",
       "      <td>71.0</td>\n",
       "      <td>85.0</td>\n",
       "      <td>124.0</td>\n",
       "      <td>50.90</td>\n",
       "    </tr>\n",
       "    <tr>\n",
       "      <th>2018-03-02 01:00:00</th>\n",
       "      <td>120</td>\n",
       "      <td>2</td>\n",
       "      <td>4</td>\n",
       "      <td>90.0</td>\n",
       "      <td>58.0</td>\n",
       "      <td>113.0</td>\n",
       "      <td>66.0</td>\n",
       "      <td>61.0</td>\n",
       "      <td>45.0</td>\n",
       "      <td>73.0</td>\n",
       "      <td>...</td>\n",
       "      <td>69.0</td>\n",
       "      <td>34.0</td>\n",
       "      <td>15.0</td>\n",
       "      <td>12.0</td>\n",
       "      <td>6.0</td>\n",
       "      <td>43.0</td>\n",
       "      <td>66.0</td>\n",
       "      <td>71.0</td>\n",
       "      <td>85.0</td>\n",
       "      <td>53.25</td>\n",
       "    </tr>\n",
       "    <tr>\n",
       "      <th>2018-03-02 02:00:00</th>\n",
       "      <td>75</td>\n",
       "      <td>2</td>\n",
       "      <td>4</td>\n",
       "      <td>120.0</td>\n",
       "      <td>90.0</td>\n",
       "      <td>58.0</td>\n",
       "      <td>113.0</td>\n",
       "      <td>66.0</td>\n",
       "      <td>61.0</td>\n",
       "      <td>45.0</td>\n",
       "      <td>...</td>\n",
       "      <td>64.0</td>\n",
       "      <td>69.0</td>\n",
       "      <td>34.0</td>\n",
       "      <td>15.0</td>\n",
       "      <td>12.0</td>\n",
       "      <td>6.0</td>\n",
       "      <td>43.0</td>\n",
       "      <td>66.0</td>\n",
       "      <td>71.0</td>\n",
       "      <td>58.95</td>\n",
       "    </tr>\n",
       "    <tr>\n",
       "      <th>2018-03-02 03:00:00</th>\n",
       "      <td>64</td>\n",
       "      <td>2</td>\n",
       "      <td>4</td>\n",
       "      <td>75.0</td>\n",
       "      <td>120.0</td>\n",
       "      <td>90.0</td>\n",
       "      <td>58.0</td>\n",
       "      <td>113.0</td>\n",
       "      <td>66.0</td>\n",
       "      <td>61.0</td>\n",
       "      <td>...</td>\n",
       "      <td>96.0</td>\n",
       "      <td>64.0</td>\n",
       "      <td>69.0</td>\n",
       "      <td>34.0</td>\n",
       "      <td>15.0</td>\n",
       "      <td>12.0</td>\n",
       "      <td>6.0</td>\n",
       "      <td>43.0</td>\n",
       "      <td>66.0</td>\n",
       "      <td>62.10</td>\n",
       "    </tr>\n",
       "    <tr>\n",
       "      <th>2018-03-02 04:00:00</th>\n",
       "      <td>20</td>\n",
       "      <td>2</td>\n",
       "      <td>4</td>\n",
       "      <td>64.0</td>\n",
       "      <td>75.0</td>\n",
       "      <td>120.0</td>\n",
       "      <td>90.0</td>\n",
       "      <td>58.0</td>\n",
       "      <td>113.0</td>\n",
       "      <td>66.0</td>\n",
       "      <td>...</td>\n",
       "      <td>30.0</td>\n",
       "      <td>96.0</td>\n",
       "      <td>64.0</td>\n",
       "      <td>69.0</td>\n",
       "      <td>34.0</td>\n",
       "      <td>15.0</td>\n",
       "      <td>12.0</td>\n",
       "      <td>6.0</td>\n",
       "      <td>43.0</td>\n",
       "      <td>64.55</td>\n",
       "    </tr>\n",
       "    <tr>\n",
       "      <th>...</th>\n",
       "      <td>...</td>\n",
       "      <td>...</td>\n",
       "      <td>...</td>\n",
       "      <td>...</td>\n",
       "      <td>...</td>\n",
       "      <td>...</td>\n",
       "      <td>...</td>\n",
       "      <td>...</td>\n",
       "      <td>...</td>\n",
       "      <td>...</td>\n",
       "      <td>...</td>\n",
       "      <td>...</td>\n",
       "      <td>...</td>\n",
       "      <td>...</td>\n",
       "      <td>...</td>\n",
       "      <td>...</td>\n",
       "      <td>...</td>\n",
       "      <td>...</td>\n",
       "      <td>...</td>\n",
       "      <td>...</td>\n",
       "      <td>...</td>\n",
       "    </tr>\n",
       "    <tr>\n",
       "      <th>2018-08-31 19:00:00</th>\n",
       "      <td>136</td>\n",
       "      <td>31</td>\n",
       "      <td>4</td>\n",
       "      <td>207.0</td>\n",
       "      <td>217.0</td>\n",
       "      <td>197.0</td>\n",
       "      <td>116.0</td>\n",
       "      <td>133.0</td>\n",
       "      <td>166.0</td>\n",
       "      <td>136.0</td>\n",
       "      <td>...</td>\n",
       "      <td>99.0</td>\n",
       "      <td>230.0</td>\n",
       "      <td>194.0</td>\n",
       "      <td>276.0</td>\n",
       "      <td>246.0</td>\n",
       "      <td>158.0</td>\n",
       "      <td>198.0</td>\n",
       "      <td>142.0</td>\n",
       "      <td>72.0</td>\n",
       "      <td>169.35</td>\n",
       "    </tr>\n",
       "    <tr>\n",
       "      <th>2018-08-31 20:00:00</th>\n",
       "      <td>154</td>\n",
       "      <td>31</td>\n",
       "      <td>4</td>\n",
       "      <td>136.0</td>\n",
       "      <td>207.0</td>\n",
       "      <td>217.0</td>\n",
       "      <td>197.0</td>\n",
       "      <td>116.0</td>\n",
       "      <td>133.0</td>\n",
       "      <td>166.0</td>\n",
       "      <td>...</td>\n",
       "      <td>268.0</td>\n",
       "      <td>99.0</td>\n",
       "      <td>230.0</td>\n",
       "      <td>194.0</td>\n",
       "      <td>276.0</td>\n",
       "      <td>246.0</td>\n",
       "      <td>158.0</td>\n",
       "      <td>198.0</td>\n",
       "      <td>142.0</td>\n",
       "      <td>163.85</td>\n",
       "    </tr>\n",
       "    <tr>\n",
       "      <th>2018-08-31 21:00:00</th>\n",
       "      <td>159</td>\n",
       "      <td>31</td>\n",
       "      <td>4</td>\n",
       "      <td>154.0</td>\n",
       "      <td>136.0</td>\n",
       "      <td>207.0</td>\n",
       "      <td>217.0</td>\n",
       "      <td>197.0</td>\n",
       "      <td>116.0</td>\n",
       "      <td>133.0</td>\n",
       "      <td>...</td>\n",
       "      <td>78.0</td>\n",
       "      <td>268.0</td>\n",
       "      <td>99.0</td>\n",
       "      <td>230.0</td>\n",
       "      <td>194.0</td>\n",
       "      <td>276.0</td>\n",
       "      <td>246.0</td>\n",
       "      <td>158.0</td>\n",
       "      <td>198.0</td>\n",
       "      <td>157.75</td>\n",
       "    </tr>\n",
       "    <tr>\n",
       "      <th>2018-08-31 22:00:00</th>\n",
       "      <td>223</td>\n",
       "      <td>31</td>\n",
       "      <td>4</td>\n",
       "      <td>159.0</td>\n",
       "      <td>154.0</td>\n",
       "      <td>136.0</td>\n",
       "      <td>207.0</td>\n",
       "      <td>217.0</td>\n",
       "      <td>197.0</td>\n",
       "      <td>116.0</td>\n",
       "      <td>...</td>\n",
       "      <td>35.0</td>\n",
       "      <td>78.0</td>\n",
       "      <td>268.0</td>\n",
       "      <td>99.0</td>\n",
       "      <td>230.0</td>\n",
       "      <td>194.0</td>\n",
       "      <td>276.0</td>\n",
       "      <td>246.0</td>\n",
       "      <td>158.0</td>\n",
       "      <td>156.00</td>\n",
       "    </tr>\n",
       "    <tr>\n",
       "      <th>2018-08-31 23:00:00</th>\n",
       "      <td>205</td>\n",
       "      <td>31</td>\n",
       "      <td>4</td>\n",
       "      <td>223.0</td>\n",
       "      <td>159.0</td>\n",
       "      <td>154.0</td>\n",
       "      <td>136.0</td>\n",
       "      <td>207.0</td>\n",
       "      <td>217.0</td>\n",
       "      <td>197.0</td>\n",
       "      <td>...</td>\n",
       "      <td>46.0</td>\n",
       "      <td>35.0</td>\n",
       "      <td>78.0</td>\n",
       "      <td>268.0</td>\n",
       "      <td>99.0</td>\n",
       "      <td>230.0</td>\n",
       "      <td>194.0</td>\n",
       "      <td>276.0</td>\n",
       "      <td>246.0</td>\n",
       "      <td>155.65</td>\n",
       "    </tr>\n",
       "  </tbody>\n",
       "</table>\n",
       "<p>4392 rows × 28 columns</p>\n",
       "</div>"
      ],
      "text/plain": [
       "                     num_orders  day  dayofweek  lag_1  lag_2  lag_3  lag_4  \\\n",
       "datetime                                                                      \n",
       "2018-03-02 00:00:00          90    2          4   58.0  113.0   66.0   61.0   \n",
       "2018-03-02 01:00:00         120    2          4   90.0   58.0  113.0   66.0   \n",
       "2018-03-02 02:00:00          75    2          4  120.0   90.0   58.0  113.0   \n",
       "2018-03-02 03:00:00          64    2          4   75.0  120.0   90.0   58.0   \n",
       "2018-03-02 04:00:00          20    2          4   64.0   75.0  120.0   90.0   \n",
       "...                         ...  ...        ...    ...    ...    ...    ...   \n",
       "2018-08-31 19:00:00         136   31          4  207.0  217.0  197.0  116.0   \n",
       "2018-08-31 20:00:00         154   31          4  136.0  207.0  217.0  197.0   \n",
       "2018-08-31 21:00:00         159   31          4  154.0  136.0  207.0  217.0   \n",
       "2018-08-31 22:00:00         223   31          4  159.0  154.0  136.0  207.0   \n",
       "2018-08-31 23:00:00         205   31          4  223.0  159.0  154.0  136.0   \n",
       "\n",
       "                     lag_5  lag_6  lag_7  ...  lag_16  lag_17  lag_18  lag_19  \\\n",
       "datetime                                  ...                                   \n",
       "2018-03-02 00:00:00   45.0   73.0   44.0  ...    34.0    15.0    12.0     6.0   \n",
       "2018-03-02 01:00:00   61.0   45.0   73.0  ...    69.0    34.0    15.0    12.0   \n",
       "2018-03-02 02:00:00   66.0   61.0   45.0  ...    64.0    69.0    34.0    15.0   \n",
       "2018-03-02 03:00:00  113.0   66.0   61.0  ...    96.0    64.0    69.0    34.0   \n",
       "2018-03-02 04:00:00   58.0  113.0   66.0  ...    30.0    96.0    64.0    69.0   \n",
       "...                    ...    ...    ...  ...     ...     ...     ...     ...   \n",
       "2018-08-31 19:00:00  133.0  166.0  136.0  ...    99.0   230.0   194.0   276.0   \n",
       "2018-08-31 20:00:00  116.0  133.0  166.0  ...   268.0    99.0   230.0   194.0   \n",
       "2018-08-31 21:00:00  197.0  116.0  133.0  ...    78.0   268.0    99.0   230.0   \n",
       "2018-08-31 22:00:00  217.0  197.0  116.0  ...    35.0    78.0   268.0    99.0   \n",
       "2018-08-31 23:00:00  207.0  217.0  197.0  ...    46.0    35.0    78.0   268.0   \n",
       "\n",
       "                     lag_20  lag_21  lag_22  lag_23  lag_24  rolling_mean  \n",
       "datetime                                                                   \n",
       "2018-03-02 00:00:00    43.0    66.0    71.0    85.0   124.0         50.90  \n",
       "2018-03-02 01:00:00     6.0    43.0    66.0    71.0    85.0         53.25  \n",
       "2018-03-02 02:00:00    12.0     6.0    43.0    66.0    71.0         58.95  \n",
       "2018-03-02 03:00:00    15.0    12.0     6.0    43.0    66.0         62.10  \n",
       "2018-03-02 04:00:00    34.0    15.0    12.0     6.0    43.0         64.55  \n",
       "...                     ...     ...     ...     ...     ...           ...  \n",
       "2018-08-31 19:00:00   246.0   158.0   198.0   142.0    72.0        169.35  \n",
       "2018-08-31 20:00:00   276.0   246.0   158.0   198.0   142.0        163.85  \n",
       "2018-08-31 21:00:00   194.0   276.0   246.0   158.0   198.0        157.75  \n",
       "2018-08-31 22:00:00   230.0   194.0   276.0   246.0   158.0        156.00  \n",
       "2018-08-31 23:00:00    99.0   230.0   194.0   276.0   246.0        155.65  \n",
       "\n",
       "[4392 rows x 28 columns]"
      ]
     },
     "execution_count": 25,
     "metadata": {},
     "output_type": "execute_result"
    }
   ],
   "source": [
    "data = data.dropna()\n",
    "data"
   ]
  },
  {
   "cell_type": "code",
   "execution_count": 26,
   "metadata": {},
   "outputs": [],
   "source": [
    "train, test = train_test_split(data, shuffle=False, test_size=0.1)\n",
    "train = train.dropna()"
   ]
  },
  {
   "cell_type": "code",
   "execution_count": 27,
   "metadata": {},
   "outputs": [
    {
     "data": {
      "text/plain": [
       "(3952, 28)"
      ]
     },
     "metadata": {},
     "output_type": "display_data"
    },
    {
     "data": {
      "text/plain": [
       "(440, 28)"
      ]
     },
     "metadata": {},
     "output_type": "display_data"
    }
   ],
   "source": [
    "display(train.shape)\n",
    "display(test.shape)"
   ]
  },
  {
   "cell_type": "code",
   "execution_count": 28,
   "metadata": {},
   "outputs": [],
   "source": [
    "X_train = train.drop('num_orders', axis=1)\n",
    "y_train = train['num_orders']\n",
    "X_test = test.drop('num_orders', axis=1)\n",
    "y_test = test['num_orders']"
   ]
  },
  {
   "cell_type": "markdown",
   "metadata": {},
   "source": [
    "### Модель линейной регрессии"
   ]
  },
  {
   "cell_type": "code",
   "execution_count": 29,
   "metadata": {},
   "outputs": [],
   "source": [
    "model_lr = LinearRegression()"
   ]
  },
  {
   "cell_type": "code",
   "execution_count": 30,
   "metadata": {},
   "outputs": [],
   "source": [
    "model_lr.fit(X_train, y_train);"
   ]
  },
  {
   "cell_type": "code",
   "execution_count": 32,
   "metadata": {},
   "outputs": [],
   "source": [
    "tscv = TimeSeriesSplit(n_splits=5)"
   ]
  },
  {
   "cell_type": "code",
   "execution_count": 33,
   "metadata": {},
   "outputs": [
    {
     "name": "stdout",
     "output_type": "stream",
     "text": [
      "Корень из квадратичной средней ошибки (RMSE) для модели лин. рег. составляет 27.42\n"
     ]
    }
   ],
   "source": [
    "scores_list = cross_val_score(estimator=model_lr, \n",
    "                              X=X_train, \n",
    "                              y=y_train, \n",
    "                              cv=tscv,  \n",
    "                              scoring='neg_mean_squared_error')\n",
    "\n",
    "val_score = scores_list.mean()\n",
    "val_score = np.sqrt(val_score*-1)   # Правильно?\n",
    "print(f'Корень из квадратичной средней ошибки (RMSE) для модели лин. рег. составляет {round(val_score, 2)}')"
   ]
  },
  {
   "cell_type": "markdown",
   "metadata": {},
   "source": [
    "### Модель RandomForestRegressor"
   ]
  },
  {
   "cell_type": "code",
   "execution_count": 38,
   "metadata": {},
   "outputs": [],
   "source": [
    "model_rfr = RandomForestRegressor(random_state=42)"
   ]
  },
  {
   "cell_type": "code",
   "execution_count": 39,
   "metadata": {},
   "outputs": [],
   "source": [
    "param_grid_rfr = {\"max_depth\": [1,10],\"n_estimators\":[10, 50, 100]}"
   ]
  },
  {
   "cell_type": "code",
   "execution_count": 40,
   "metadata": {},
   "outputs": [],
   "source": [
    "grid_rfr = GridSearchCV(estimator=model_rfr, param_grid=param_grid_rfr, cv=tscv, scoring='neg_root_mean_squared_error')"
   ]
  },
  {
   "cell_type": "code",
   "execution_count": 41,
   "metadata": {},
   "outputs": [
    {
     "name": "stdout",
     "output_type": "stream",
     "text": [
      "CPU times: user 20.7 s, sys: 61.7 ms, total: 20.7 s\n",
      "Wall time: 20.7 s\n"
     ]
    },
    {
     "data": {
      "text/plain": [
       "GridSearchCV(cv=TimeSeriesSplit(gap=0, max_train_size=None, n_splits=5, test_size=None),\n",
       "             estimator=RandomForestRegressor(random_state=42),\n",
       "             param_grid={'max_depth': [1, 10], 'n_estimators': [10, 50, 100]},\n",
       "             scoring='neg_root_mean_squared_error')"
      ]
     },
     "execution_count": 41,
     "metadata": {},
     "output_type": "execute_result"
    }
   ],
   "source": [
    "%%time\n",
    "grid_rfr.fit(X_train, y_train);"
   ]
  },
  {
   "cell_type": "code",
   "execution_count": 42,
   "metadata": {},
   "outputs": [],
   "source": [
    "best_score_rfr = grid_rfr.best_score_*-1"
   ]
  },
  {
   "cell_type": "code",
   "execution_count": 43,
   "metadata": {},
   "outputs": [
    {
     "name": "stdout",
     "output_type": "stream",
     "text": [
      "Корень из квадратичной средней ошибки (RMSE) для модели RandomForestRegressor составляет 26.04\n"
     ]
    }
   ],
   "source": [
    "print(f'Корень из квадратичной средней ошибки (RMSE) для модели RandomForestRegressor составляет {round(best_score_rfr, 2)}')"
   ]
  },
  {
   "cell_type": "code",
   "execution_count": 44,
   "metadata": {},
   "outputs": [
    {
     "name": "stdout",
     "output_type": "stream",
     "text": [
      "Лучшие параметры модели RandomForestRegressor: {'max_depth': 10, 'n_estimators': 100}\n"
     ]
    }
   ],
   "source": [
    "print(f'Лучшие параметры модели RandomForestRegressor: {grid_rfr.best_params_}')"
   ]
  },
  {
   "cell_type": "markdown",
   "metadata": {},
   "source": [
    "### Модель CatBoost"
   ]
  },
  {
   "cell_type": "code",
   "execution_count": 45,
   "metadata": {},
   "outputs": [],
   "source": [
    "model_cb = CatBoostRegressor(loss_function='RMSE',random_state = 42)"
   ]
  },
  {
   "cell_type": "code",
   "execution_count": 46,
   "metadata": {},
   "outputs": [],
   "source": [
    "param_cb = {'depth':[5,10], 'learning_rate':np.arange(0.1,1,0.2)}"
   ]
  },
  {
   "cell_type": "code",
   "execution_count": 47,
   "metadata": {},
   "outputs": [],
   "source": [
    "grid_cb = GridSearchCV(estimator=model_cb, param_grid=param_cb, cv=tscv, scoring='neg_root_mean_squared_error')"
   ]
  },
  {
   "cell_type": "code",
   "execution_count": 48,
   "metadata": {},
   "outputs": [],
   "source": [
    "%%time\n",
    "grid_cb.fit(X_train, y_train)"
   ]
  },
  {
   "cell_type": "code",
   "execution_count": 49,
   "metadata": {},
   "outputs": [],
   "source": [
    "best_score_cb = grid_cb.best_score_*-1"
   ]
  },
  {
   "cell_type": "code",
   "execution_count": 50,
   "metadata": {},
   "outputs": [],
   "source": [
    "print(f'Корень из квадратичной средней ошибки (RMSE) для модели CatBoost составляет {round(best_score_cb, 2)}')"
   ]
  },
  {
   "cell_type": "code",
   "execution_count": 51,
   "metadata": {},
   "outputs": [],
   "source": [
    "print(f'Лучшие параметры модели CatBoost: {grid_cb.best_params_}')"
   ]
  },
  {
   "cell_type": "markdown",
   "metadata": {},
   "source": [
    "Лучшие параметры модели CatBoost: {'depth': 5, 'learning_rate': 0.1}"
   ]
  },
  {
   "cell_type": "markdown",
   "metadata": {},
   "source": [
    "Лучшие параметры показала модель RandomForestRegressor RMSE составило 26.09"
   ]
  },
  {
   "cell_type": "markdown",
   "metadata": {},
   "source": [
    "## Тестирование"
   ]
  },
  {
   "cell_type": "markdown",
   "metadata": {},
   "source": [
    "Проведем тестирование на модели, которая показала лучшие результаты (RandomForestRegressor) #хотя я хотел показать все три."
   ]
  },
  {
   "cell_type": "markdown",
   "metadata": {},
   "source": [
    "### Модель линейной регрессии"
   ]
  },
  {
   "cell_type": "code",
   "execution_count": 52,
   "metadata": {},
   "outputs": [],
   "source": [
    "#%%time\n",
    "pred_lr = model_lr.predict(X_test)"
   ]
  },
  {
   "cell_type": "code",
   "execution_count": 53,
   "metadata": {},
   "outputs": [],
   "source": [
    "rmse_lr = mean_squared_error(y_test, pred_lr)**0.5"
   ]
  },
  {
   "cell_type": "code",
   "execution_count": 54,
   "metadata": {},
   "outputs": [],
   "source": [
    "print(f'Корень из квадратичной средней ошибки (RMSE) для модели линейной регрессии составляет {round(rmse_lr, 2)}')"
   ]
  },
  {
   "cell_type": "markdown",
   "metadata": {},
   "source": [
    "### Модель RandomForestRegressor"
   ]
  },
  {
   "cell_type": "code",
   "execution_count": 55,
   "metadata": {},
   "outputs": [
    {
     "name": "stdout",
     "output_type": "stream",
     "text": [
      "CPU times: user 16.6 ms, sys: 36 µs, total: 16.6 ms\n",
      "Wall time: 16.1 ms\n"
     ]
    }
   ],
   "source": [
    "%%time\n",
    "pred_rfr = grid_rfr.best_estimator_.predict(X_test)"
   ]
  },
  {
   "cell_type": "code",
   "execution_count": 56,
   "metadata": {},
   "outputs": [],
   "source": [
    "rmse_rfr = mean_squared_error(y_test, pred_rfr)**0.5"
   ]
  },
  {
   "cell_type": "code",
   "execution_count": 57,
   "metadata": {},
   "outputs": [
    {
     "name": "stdout",
     "output_type": "stream",
     "text": [
      "Корень из квадратичной средней ошибки (RMSE) для модели RandomForestRegressor составляет 43.33\n"
     ]
    }
   ],
   "source": [
    "print(f'Корень из квадратичной средней ошибки (RMSE) для модели RandomForestRegressor составляет {round(rmse_rfr, 2)}')"
   ]
  },
  {
   "cell_type": "markdown",
   "metadata": {},
   "source": [
    "### Модель CatBoost"
   ]
  },
  {
   "cell_type": "code",
   "execution_count": 58,
   "metadata": {},
   "outputs": [],
   "source": [
    "%%time\n",
    "pred_cb = grid_cb.best_estimator_.predict(X_test)"
   ]
  },
  {
   "cell_type": "code",
   "execution_count": 59,
   "metadata": {},
   "outputs": [],
   "source": [
    "rmse_cb = mean_squared_error(y_test, pred_cb)**0.5"
   ]
  },
  {
   "cell_type": "code",
   "execution_count": 60,
   "metadata": {},
   "outputs": [],
   "source": [
    "#print(f'Корень из квадратичной средней ошибки (RMSE) для модели CatBoost составляет {round(rmse_cb, 2)}')"
   ]
  },
  {
   "cell_type": "markdown",
   "metadata": {},
   "source": [
    "Лучше всего справилась модель RandomForestRegressor с результатом RMSE 43.33 на тестовой выборке."
   ]
  }
 ],
 "metadata": {
  "ExecuteTimeLog": [
   {
    "duration": 369,
    "start_time": "2023-12-20T15:52:17.096Z"
   },
   {
    "duration": 97,
    "start_time": "2023-12-20T15:52:17.558Z"
   },
   {
    "duration": 12,
    "start_time": "2023-12-20T15:52:18.249Z"
   },
   {
    "duration": 9,
    "start_time": "2023-12-20T15:52:34.777Z"
   },
   {
    "duration": 9,
    "start_time": "2023-12-20T15:52:39.814Z"
   },
   {
    "duration": 7,
    "start_time": "2023-12-20T15:52:43.375Z"
   },
   {
    "duration": 9,
    "start_time": "2023-12-20T15:52:52.173Z"
   },
   {
    "duration": 44,
    "start_time": "2023-12-20T15:53:42.711Z"
   },
   {
    "duration": 8,
    "start_time": "2023-12-20T15:53:43.790Z"
   },
   {
    "duration": 11,
    "start_time": "2023-12-20T15:53:44.908Z"
   },
   {
    "duration": 61,
    "start_time": "2023-12-20T15:55:09.411Z"
   },
   {
    "duration": 11,
    "start_time": "2023-12-20T15:55:24.815Z"
   },
   {
    "duration": 38,
    "start_time": "2023-12-20T15:55:41.989Z"
   },
   {
    "duration": 12,
    "start_time": "2023-12-20T15:55:42.720Z"
   },
   {
    "duration": 10,
    "start_time": "2023-12-20T15:55:43.314Z"
   },
   {
    "duration": 10,
    "start_time": "2023-12-20T15:55:43.838Z"
   },
   {
    "duration": 43,
    "start_time": "2023-12-20T15:56:12.643Z"
   },
   {
    "duration": 7,
    "start_time": "2023-12-20T15:56:13.374Z"
   },
   {
    "duration": 8,
    "start_time": "2023-12-20T15:56:15.672Z"
   },
   {
    "duration": 3,
    "start_time": "2023-12-20T15:56:19.927Z"
   },
   {
    "duration": 3,
    "start_time": "2023-12-20T15:56:23.349Z"
   },
   {
    "duration": 181464,
    "start_time": "2023-12-20T15:56:32.004Z"
   },
   {
    "duration": 8,
    "start_time": "2023-12-20T15:59:40.548Z"
   },
   {
    "duration": 42,
    "start_time": "2023-12-20T15:59:48.915Z"
   },
   {
    "duration": 8,
    "start_time": "2023-12-20T15:59:49.570Z"
   },
   {
    "duration": 8,
    "start_time": "2023-12-20T15:59:50.421Z"
   },
   {
    "duration": 7,
    "start_time": "2023-12-20T15:59:51.079Z"
   },
   {
    "duration": 173,
    "start_time": "2023-12-20T15:59:59.694Z"
   },
   {
    "duration": 174,
    "start_time": "2023-12-20T16:00:06.497Z"
   },
   {
    "duration": 172,
    "start_time": "2023-12-20T16:01:00.645Z"
   },
   {
    "duration": 194,
    "start_time": "2023-12-20T16:01:22.758Z"
   },
   {
    "duration": 403,
    "start_time": "2023-12-20T16:01:28.498Z"
   },
   {
    "duration": 210,
    "start_time": "2023-12-20T16:01:31.670Z"
   },
   {
    "duration": 184,
    "start_time": "2023-12-20T16:01:42.078Z"
   },
   {
    "duration": 606,
    "start_time": "2023-12-20T16:02:00.976Z"
   },
   {
    "duration": 176,
    "start_time": "2023-12-20T16:02:06.958Z"
   },
   {
    "duration": 6,
    "start_time": "2023-12-20T16:03:33.574Z"
   },
   {
    "duration": 1297,
    "start_time": "2023-12-22T15:38:39.861Z"
   },
   {
    "duration": 113,
    "start_time": "2023-12-22T15:38:41.798Z"
   },
   {
    "duration": 11,
    "start_time": "2023-12-22T15:38:42.312Z"
   },
   {
    "duration": 11,
    "start_time": "2023-12-22T15:38:42.836Z"
   },
   {
    "duration": 9,
    "start_time": "2023-12-22T15:38:43.816Z"
   },
   {
    "duration": 338,
    "start_time": "2023-12-22T15:38:44.320Z"
   },
   {
    "duration": 10,
    "start_time": "2023-12-22T15:39:39.037Z"
   },
   {
    "duration": 9,
    "start_time": "2023-12-22T15:39:58.211Z"
   },
   {
    "duration": 6,
    "start_time": "2023-12-22T15:40:55.437Z"
   },
   {
    "duration": 318,
    "start_time": "2023-12-22T15:40:56.778Z"
   },
   {
    "duration": 344,
    "start_time": "2023-12-22T15:41:44.052Z"
   },
   {
    "duration": 13,
    "start_time": "2023-12-22T15:46:04.851Z"
   },
   {
    "duration": 4,
    "start_time": "2023-12-22T15:46:19.609Z"
   },
   {
    "duration": 330,
    "start_time": "2023-12-22T15:46:22.145Z"
   },
   {
    "duration": 12,
    "start_time": "2023-12-22T15:46:33.198Z"
   },
   {
    "duration": 11,
    "start_time": "2023-12-22T15:47:20.179Z"
   },
   {
    "duration": 4,
    "start_time": "2023-12-22T15:47:22.668Z"
   },
   {
    "duration": 397,
    "start_time": "2023-12-22T15:47:29.184Z"
   },
   {
    "duration": 8,
    "start_time": "2023-12-22T15:47:40.871Z"
   },
   {
    "duration": 8,
    "start_time": "2023-12-22T15:47:45.354Z"
   },
   {
    "duration": 6,
    "start_time": "2023-12-22T15:47:49.911Z"
   },
   {
    "duration": 5,
    "start_time": "2023-12-22T15:48:07.241Z"
   },
   {
    "duration": 8,
    "start_time": "2023-12-22T15:48:07.773Z"
   },
   {
    "duration": 327,
    "start_time": "2023-12-22T15:48:12.000Z"
   },
   {
    "duration": 6,
    "start_time": "2023-12-22T15:48:17.985Z"
   },
   {
    "duration": 8,
    "start_time": "2023-12-22T15:48:18.358Z"
   },
   {
    "duration": 310,
    "start_time": "2023-12-22T15:48:19.397Z"
   },
   {
    "duration": 5,
    "start_time": "2023-12-22T15:48:30.809Z"
   },
   {
    "duration": 9,
    "start_time": "2023-12-22T15:48:31.190Z"
   },
   {
    "duration": 308,
    "start_time": "2023-12-22T15:48:32.095Z"
   },
   {
    "duration": 8,
    "start_time": "2023-12-22T15:48:48.918Z"
   },
   {
    "duration": 8,
    "start_time": "2023-12-22T15:49:03.362Z"
   },
   {
    "duration": 1558,
    "start_time": "2023-12-22T15:50:11.597Z"
   },
   {
    "duration": 0,
    "start_time": "2023-12-22T15:50:13.157Z"
   },
   {
    "duration": 5,
    "start_time": "2023-12-22T15:50:24.237Z"
   },
   {
    "duration": 1188,
    "start_time": "2023-12-22T15:50:32.961Z"
   },
   {
    "duration": 1151,
    "start_time": "2023-12-22T15:50:37.525Z"
   },
   {
    "duration": 4,
    "start_time": "2023-12-22T15:51:37.504Z"
   },
   {
    "duration": 4,
    "start_time": "2023-12-22T15:51:44.094Z"
   },
   {
    "duration": 4,
    "start_time": "2023-12-22T15:51:47.807Z"
   },
   {
    "duration": 8,
    "start_time": "2023-12-22T15:51:48.473Z"
   },
   {
    "duration": 344,
    "start_time": "2023-12-22T15:51:49.781Z"
   },
   {
    "duration": 5,
    "start_time": "2023-12-22T15:52:01.440Z"
   },
   {
    "duration": 4,
    "start_time": "2023-12-22T15:52:06.799Z"
   },
   {
    "duration": 4,
    "start_time": "2023-12-22T15:52:07.221Z"
   },
   {
    "duration": 8,
    "start_time": "2023-12-22T15:52:08.090Z"
   },
   {
    "duration": 410,
    "start_time": "2023-12-22T15:52:09.291Z"
   },
   {
    "duration": 9,
    "start_time": "2023-12-22T15:59:23.124Z"
   },
   {
    "duration": 25,
    "start_time": "2023-12-22T15:59:34.458Z"
   },
   {
    "duration": 13,
    "start_time": "2023-12-22T15:59:38.152Z"
   },
   {
    "duration": 4,
    "start_time": "2023-12-22T16:00:15.606Z"
   },
   {
    "duration": 30,
    "start_time": "2023-12-22T16:00:16.675Z"
   },
   {
    "duration": 11,
    "start_time": "2023-12-22T16:00:28.264Z"
   },
   {
    "duration": 2,
    "start_time": "2023-12-22T16:01:22.115Z"
   },
   {
    "duration": 18,
    "start_time": "2023-12-22T16:01:24.322Z"
   },
   {
    "duration": 8,
    "start_time": "2023-12-22T16:02:53.564Z"
   },
   {
    "duration": 4,
    "start_time": "2023-12-22T16:02:56.889Z"
   },
   {
    "duration": 304,
    "start_time": "2023-12-22T16:03:12.031Z"
   },
   {
    "duration": 263,
    "start_time": "2023-12-22T16:03:24.469Z"
   },
   {
    "duration": 245,
    "start_time": "2023-12-22T16:03:32.412Z"
   },
   {
    "duration": 274,
    "start_time": "2023-12-22T16:04:00.017Z"
   },
   {
    "duration": 336,
    "start_time": "2023-12-22T16:04:46.367Z"
   },
   {
    "duration": 281,
    "start_time": "2023-12-22T16:04:50.880Z"
   },
   {
    "duration": 1235,
    "start_time": "2023-12-22T16:15:07.480Z"
   },
   {
    "duration": 50,
    "start_time": "2023-12-22T16:15:08.717Z"
   },
   {
    "duration": 11,
    "start_time": "2023-12-22T16:15:08.768Z"
   },
   {
    "duration": 38,
    "start_time": "2023-12-22T16:15:08.781Z"
   },
   {
    "duration": 14,
    "start_time": "2023-12-22T16:15:08.821Z"
   },
   {
    "duration": 38,
    "start_time": "2023-12-22T16:15:08.837Z"
   },
   {
    "duration": 41,
    "start_time": "2023-12-22T16:15:08.877Z"
   },
   {
    "duration": 26,
    "start_time": "2023-12-22T16:15:08.919Z"
   },
   {
    "duration": 439,
    "start_time": "2023-12-22T16:15:08.947Z"
   },
   {
    "duration": 4,
    "start_time": "2023-12-22T16:15:09.388Z"
   },
   {
    "duration": 36,
    "start_time": "2023-12-22T16:15:09.394Z"
   },
   {
    "duration": 313,
    "start_time": "2023-12-22T16:15:09.432Z"
   },
   {
    "duration": 328,
    "start_time": "2023-12-22T16:15:09.746Z"
   },
   {
    "duration": 7,
    "start_time": "2023-12-22T16:16:11.055Z"
   },
   {
    "duration": 10,
    "start_time": "2023-12-22T16:16:17.496Z"
   },
   {
    "duration": 1178,
    "start_time": "2023-12-22T16:16:35.358Z"
   },
   {
    "duration": 49,
    "start_time": "2023-12-22T16:16:36.538Z"
   },
   {
    "duration": 11,
    "start_time": "2023-12-22T16:16:36.589Z"
   },
   {
    "duration": 11,
    "start_time": "2023-12-22T16:16:36.602Z"
   },
   {
    "duration": 8,
    "start_time": "2023-12-22T16:16:36.615Z"
   },
   {
    "duration": 5,
    "start_time": "2023-12-22T16:16:36.624Z"
   },
   {
    "duration": 14,
    "start_time": "2023-12-22T16:16:36.630Z"
   },
   {
    "duration": 12,
    "start_time": "2023-12-22T16:16:36.645Z"
   },
   {
    "duration": 420,
    "start_time": "2023-12-22T16:16:36.659Z"
   },
   {
    "duration": 4,
    "start_time": "2023-12-22T16:16:37.080Z"
   },
   {
    "duration": 10,
    "start_time": "2023-12-22T16:16:37.085Z"
   },
   {
    "duration": 245,
    "start_time": "2023-12-22T16:16:37.097Z"
   },
   {
    "duration": 280,
    "start_time": "2023-12-22T16:16:37.343Z"
   },
   {
    "duration": 20,
    "start_time": "2023-12-22T16:16:37.625Z"
   },
   {
    "duration": 308,
    "start_time": "2023-12-22T16:17:17.686Z"
   },
   {
    "duration": 8,
    "start_time": "2023-12-22T16:18:27.341Z"
   },
   {
    "duration": 17,
    "start_time": "2023-12-22T16:18:30.796Z"
   },
   {
    "duration": 4,
    "start_time": "2023-12-22T16:18:39.053Z"
   },
   {
    "duration": 4,
    "start_time": "2023-12-22T16:18:46.078Z"
   },
   {
    "duration": 5,
    "start_time": "2023-12-22T16:18:59.351Z"
   },
   {
    "duration": 5,
    "start_time": "2023-12-22T16:19:38.075Z"
   },
   {
    "duration": 10,
    "start_time": "2023-12-22T16:19:42.802Z"
   },
   {
    "duration": 6,
    "start_time": "2023-12-22T16:19:55.349Z"
   },
   {
    "duration": 10,
    "start_time": "2023-12-22T16:20:11.359Z"
   },
   {
    "duration": 11,
    "start_time": "2023-12-22T16:21:04.734Z"
   },
   {
    "duration": 6,
    "start_time": "2023-12-22T16:21:05.236Z"
   },
   {
    "duration": 5,
    "start_time": "2023-12-22T16:21:05.623Z"
   },
   {
    "duration": 5,
    "start_time": "2023-12-22T16:21:06.011Z"
   },
   {
    "duration": 10,
    "start_time": "2023-12-22T16:21:07.055Z"
   },
   {
    "duration": 45,
    "start_time": "2023-12-22T16:22:58.779Z"
   },
   {
    "duration": 3,
    "start_time": "2023-12-22T16:23:48.354Z"
   },
   {
    "duration": 114,
    "start_time": "2023-12-22T16:24:04.817Z"
   },
   {
    "duration": 95,
    "start_time": "2023-12-22T16:24:09.654Z"
   },
   {
    "duration": 8,
    "start_time": "2023-12-22T16:24:46.221Z"
   },
   {
    "duration": 6,
    "start_time": "2023-12-22T16:24:49.452Z"
   },
   {
    "duration": 4,
    "start_time": "2023-12-22T16:24:49.827Z"
   },
   {
    "duration": 4,
    "start_time": "2023-12-22T16:24:50.154Z"
   },
   {
    "duration": 4,
    "start_time": "2023-12-22T16:24:50.884Z"
   },
   {
    "duration": 1546,
    "start_time": "2023-12-22T16:24:54.853Z"
   },
   {
    "duration": 46,
    "start_time": "2023-12-22T16:24:56.401Z"
   },
   {
    "duration": 12,
    "start_time": "2023-12-22T16:24:56.449Z"
   },
   {
    "duration": 13,
    "start_time": "2023-12-22T16:24:56.462Z"
   },
   {
    "duration": 8,
    "start_time": "2023-12-22T16:24:56.476Z"
   },
   {
    "duration": 12,
    "start_time": "2023-12-22T16:24:56.486Z"
   },
   {
    "duration": 42,
    "start_time": "2023-12-22T16:24:56.499Z"
   },
   {
    "duration": 31,
    "start_time": "2023-12-22T16:24:56.543Z"
   },
   {
    "duration": 399,
    "start_time": "2023-12-22T16:24:56.575Z"
   },
   {
    "duration": 3,
    "start_time": "2023-12-22T16:24:56.977Z"
   },
   {
    "duration": 20,
    "start_time": "2023-12-22T16:24:56.981Z"
   },
   {
    "duration": 329,
    "start_time": "2023-12-22T16:24:57.003Z"
   },
   {
    "duration": 298,
    "start_time": "2023-12-22T16:24:57.334Z"
   },
   {
    "duration": 15,
    "start_time": "2023-12-22T16:24:57.633Z"
   },
   {
    "duration": 9,
    "start_time": "2023-12-22T16:24:57.649Z"
   },
   {
    "duration": 7,
    "start_time": "2023-12-22T16:24:57.660Z"
   },
   {
    "duration": 4,
    "start_time": "2023-12-22T16:24:57.669Z"
   },
   {
    "duration": 3,
    "start_time": "2023-12-22T16:24:57.675Z"
   },
   {
    "duration": 8,
    "start_time": "2023-12-22T16:24:57.679Z"
   },
   {
    "duration": 3,
    "start_time": "2023-12-22T16:25:18.331Z"
   },
   {
    "duration": 3,
    "start_time": "2023-12-22T16:25:32.887Z"
   },
   {
    "duration": 49,
    "start_time": "2023-12-22T16:26:04.650Z"
   },
   {
    "duration": 2,
    "start_time": "2023-12-22T16:26:22.122Z"
   },
   {
    "duration": 4,
    "start_time": "2023-12-22T16:26:22.665Z"
   },
   {
    "duration": 3,
    "start_time": "2023-12-22T16:28:10.191Z"
   },
   {
    "duration": 4,
    "start_time": "2023-12-22T16:28:21.214Z"
   },
   {
    "duration": 3,
    "start_time": "2023-12-22T16:28:38.841Z"
   },
   {
    "duration": 3,
    "start_time": "2023-12-22T16:29:10.418Z"
   },
   {
    "duration": 47,
    "start_time": "2023-12-22T16:29:16.008Z"
   },
   {
    "duration": 7266,
    "start_time": "2023-12-22T16:29:34.480Z"
   },
   {
    "duration": 7565,
    "start_time": "2023-12-22T16:29:48.978Z"
   },
   {
    "duration": 51,
    "start_time": "2023-12-22T16:30:04.641Z"
   },
   {
    "duration": 3,
    "start_time": "2023-12-22T16:30:19.366Z"
   },
   {
    "duration": 3,
    "start_time": "2023-12-22T16:30:24.472Z"
   },
   {
    "duration": 2,
    "start_time": "2023-12-22T16:30:49.383Z"
   },
   {
    "duration": 3,
    "start_time": "2023-12-22T16:30:50.139Z"
   },
   {
    "duration": 7254,
    "start_time": "2023-12-22T16:30:51.036Z"
   },
   {
    "duration": 3,
    "start_time": "2023-12-22T16:30:58.292Z"
   },
   {
    "duration": 6,
    "start_time": "2023-12-22T16:30:58.296Z"
   },
   {
    "duration": 3,
    "start_time": "2023-12-22T16:31:58.234Z"
   },
   {
    "duration": 112,
    "start_time": "2023-12-22T16:32:10.748Z"
   },
   {
    "duration": 3,
    "start_time": "2023-12-22T16:32:27.094Z"
   },
   {
    "duration": 3,
    "start_time": "2023-12-22T16:32:31.375Z"
   },
   {
    "duration": 3,
    "start_time": "2023-12-22T16:33:00.325Z"
   },
   {
    "duration": 3,
    "start_time": "2023-12-22T16:33:14.092Z"
   },
   {
    "duration": 212543,
    "start_time": "2023-12-22T16:33:19.997Z"
   },
   {
    "duration": 3,
    "start_time": "2023-12-22T16:36:52.542Z"
   },
   {
    "duration": 14,
    "start_time": "2023-12-22T16:36:52.546Z"
   },
   {
    "duration": 3,
    "start_time": "2023-12-22T16:38:15.631Z"
   },
   {
    "duration": 7632,
    "start_time": "2023-12-22T16:38:16.029Z"
   },
   {
    "duration": 2,
    "start_time": "2023-12-22T16:38:23.663Z"
   },
   {
    "duration": 21,
    "start_time": "2023-12-22T16:38:23.666Z"
   },
   {
    "duration": 4,
    "start_time": "2023-12-22T16:40:13.891Z"
   },
   {
    "duration": 4,
    "start_time": "2023-12-22T16:41:48.782Z"
   },
   {
    "duration": 2,
    "start_time": "2023-12-22T16:42:35.418Z"
   },
   {
    "duration": 3,
    "start_time": "2023-12-22T16:42:55.750Z"
   },
   {
    "duration": 3,
    "start_time": "2023-12-22T16:50:24.251Z"
   },
   {
    "duration": 3,
    "start_time": "2023-12-22T16:50:25.335Z"
   },
   {
    "duration": 9356,
    "start_time": "2023-12-22T16:50:25.341Z"
   },
   {
    "duration": 2,
    "start_time": "2023-12-22T16:50:34.699Z"
   },
   {
    "duration": 25,
    "start_time": "2023-12-22T16:50:34.703Z"
   },
   {
    "duration": 12,
    "start_time": "2023-12-22T16:50:34.730Z"
   },
   {
    "duration": 3,
    "start_time": "2023-12-22T16:50:54.192Z"
   },
   {
    "duration": 5,
    "start_time": "2023-12-22T16:50:54.655Z"
   },
   {
    "duration": 11877,
    "start_time": "2023-12-22T16:50:54.885Z"
   },
   {
    "duration": 2,
    "start_time": "2023-12-22T16:51:06.765Z"
   },
   {
    "duration": 38,
    "start_time": "2023-12-22T16:51:06.769Z"
   },
   {
    "duration": 36,
    "start_time": "2023-12-22T16:51:06.809Z"
   },
   {
    "duration": 1587,
    "start_time": "2023-12-23T13:04:04.477Z"
   },
   {
    "duration": 113,
    "start_time": "2023-12-23T13:04:06.066Z"
   },
   {
    "duration": 13,
    "start_time": "2023-12-23T13:04:06.181Z"
   },
   {
    "duration": 12,
    "start_time": "2023-12-23T13:04:06.196Z"
   },
   {
    "duration": 7,
    "start_time": "2023-12-23T13:04:06.210Z"
   },
   {
    "duration": 8,
    "start_time": "2023-12-23T13:04:06.219Z"
   },
   {
    "duration": 16,
    "start_time": "2023-12-23T13:04:06.228Z"
   },
   {
    "duration": 24,
    "start_time": "2023-12-23T13:04:06.245Z"
   },
   {
    "duration": 391,
    "start_time": "2023-12-23T13:04:06.270Z"
   },
   {
    "duration": 2,
    "start_time": "2023-12-23T13:04:06.663Z"
   },
   {
    "duration": 17,
    "start_time": "2023-12-23T13:04:06.666Z"
   },
   {
    "duration": 324,
    "start_time": "2023-12-23T13:04:06.685Z"
   },
   {
    "duration": 287,
    "start_time": "2023-12-23T13:04:07.010Z"
   },
   {
    "duration": 23,
    "start_time": "2023-12-23T13:04:07.300Z"
   },
   {
    "duration": 7,
    "start_time": "2023-12-23T13:04:07.325Z"
   },
   {
    "duration": 6,
    "start_time": "2023-12-23T13:04:07.333Z"
   },
   {
    "duration": 5,
    "start_time": "2023-12-23T13:04:07.341Z"
   },
   {
    "duration": 4,
    "start_time": "2023-12-23T13:04:07.347Z"
   },
   {
    "duration": 8,
    "start_time": "2023-12-23T13:04:07.353Z"
   },
   {
    "duration": 2,
    "start_time": "2023-12-23T13:04:07.362Z"
   },
   {
    "duration": 3,
    "start_time": "2023-12-23T13:04:07.366Z"
   },
   {
    "duration": 83,
    "start_time": "2023-12-23T13:04:07.371Z"
   },
   {
    "duration": 3,
    "start_time": "2023-12-23T13:04:07.456Z"
   },
   {
    "duration": 13,
    "start_time": "2023-12-23T13:04:07.461Z"
   },
   {
    "duration": 15,
    "start_time": "2023-12-23T13:04:07.476Z"
   },
   {
    "duration": 5,
    "start_time": "2023-12-23T13:04:07.493Z"
   },
   {
    "duration": 38,
    "start_time": "2023-12-23T13:04:07.499Z"
   },
   {
    "duration": 10691,
    "start_time": "2023-12-23T13:04:07.539Z"
   },
   {
    "duration": 2,
    "start_time": "2023-12-23T13:04:18.232Z"
   },
   {
    "duration": 26,
    "start_time": "2023-12-23T13:04:18.236Z"
   },
   {
    "duration": 7,
    "start_time": "2023-12-23T13:04:18.264Z"
   },
   {
    "duration": 5,
    "start_time": "2023-12-23T13:04:18.273Z"
   },
   {
    "duration": 24,
    "start_time": "2023-12-23T13:04:18.280Z"
   },
   {
    "duration": 11,
    "start_time": "2023-12-23T13:04:18.305Z"
   },
   {
    "duration": 208106,
    "start_time": "2023-12-23T13:04:18.318Z"
   },
   {
    "duration": 2,
    "start_time": "2023-12-23T13:07:46.426Z"
   },
   {
    "duration": 47,
    "start_time": "2023-12-23T13:07:46.430Z"
   },
   {
    "duration": 36,
    "start_time": "2023-12-23T13:07:46.479Z"
   },
   {
    "duration": 5,
    "start_time": "2023-12-23T13:10:40.494Z"
   },
   {
    "duration": 109,
    "start_time": "2023-12-23T13:11:48.364Z"
   },
   {
    "duration": 4,
    "start_time": "2023-12-23T13:12:15.712Z"
   },
   {
    "duration": 3,
    "start_time": "2023-12-23T13:12:20.417Z"
   },
   {
    "duration": 4,
    "start_time": "2023-12-23T13:12:51.325Z"
   },
   {
    "duration": 14,
    "start_time": "2023-12-23T13:13:29.384Z"
   },
   {
    "duration": 3,
    "start_time": "2023-12-23T13:13:42.977Z"
   },
   {
    "duration": 3,
    "start_time": "2023-12-23T13:13:59.828Z"
   },
   {
    "duration": 5,
    "start_time": "2023-12-23T13:14:34.728Z"
   },
   {
    "duration": 3,
    "start_time": "2023-12-23T13:14:56.059Z"
   },
   {
    "duration": 3,
    "start_time": "2023-12-23T13:14:56.469Z"
   },
   {
    "duration": 5,
    "start_time": "2023-12-23T13:18:44.789Z"
   },
   {
    "duration": 12,
    "start_time": "2023-12-23T13:19:26.882Z"
   },
   {
    "duration": 4,
    "start_time": "2023-12-23T13:19:50.448Z"
   },
   {
    "duration": 4,
    "start_time": "2023-12-23T13:19:52.078Z"
   },
   {
    "duration": 12,
    "start_time": "2023-12-23T13:19:55.055Z"
   },
   {
    "duration": 345,
    "start_time": "2023-12-23T13:20:01.810Z"
   },
   {
    "duration": 411,
    "start_time": "2023-12-23T13:20:33.630Z"
   },
   {
    "duration": 5,
    "start_time": "2023-12-23T13:22:15.963Z"
   },
   {
    "duration": 44,
    "start_time": "2023-12-23T13:22:16.411Z"
   },
   {
    "duration": 8,
    "start_time": "2023-12-23T13:22:16.586Z"
   },
   {
    "duration": 9,
    "start_time": "2023-12-23T13:22:16.929Z"
   },
   {
    "duration": 7,
    "start_time": "2023-12-23T13:22:17.094Z"
   },
   {
    "duration": 4,
    "start_time": "2023-12-23T13:22:17.261Z"
   },
   {
    "duration": 5,
    "start_time": "2023-12-23T13:22:17.431Z"
   },
   {
    "duration": 13,
    "start_time": "2023-12-23T13:22:17.596Z"
   },
   {
    "duration": 362,
    "start_time": "2023-12-23T13:22:17.924Z"
   },
   {
    "duration": 3,
    "start_time": "2023-12-23T13:22:18.287Z"
   },
   {
    "duration": 6,
    "start_time": "2023-12-23T13:22:18.437Z"
   },
   {
    "duration": 261,
    "start_time": "2023-12-23T13:22:18.598Z"
   },
   {
    "duration": 282,
    "start_time": "2023-12-23T13:22:18.923Z"
   },
   {
    "duration": 5,
    "start_time": "2023-12-23T13:22:19.413Z"
   },
   {
    "duration": 4,
    "start_time": "2023-12-23T13:22:19.572Z"
   },
   {
    "duration": 4,
    "start_time": "2023-12-23T13:22:19.737Z"
   },
   {
    "duration": 356,
    "start_time": "2023-12-23T13:22:19.911Z"
   },
   {
    "duration": 11,
    "start_time": "2023-12-23T13:22:20.272Z"
   },
   {
    "duration": 7,
    "start_time": "2023-12-23T13:22:20.683Z"
   },
   {
    "duration": 4,
    "start_time": "2023-12-23T13:22:20.862Z"
   },
   {
    "duration": 4,
    "start_time": "2023-12-23T13:22:21.325Z"
   },
   {
    "duration": 2,
    "start_time": "2023-12-23T13:22:22.069Z"
   },
   {
    "duration": 7,
    "start_time": "2023-12-23T13:22:22.538Z"
   },
   {
    "duration": 2,
    "start_time": "2023-12-23T13:22:23.022Z"
   },
   {
    "duration": 3,
    "start_time": "2023-12-23T13:22:23.646Z"
   },
   {
    "duration": 59,
    "start_time": "2023-12-23T13:22:23.823Z"
   },
   {
    "duration": 3,
    "start_time": "2023-12-23T13:22:24.004Z"
   },
   {
    "duration": 4,
    "start_time": "2023-12-23T13:22:24.695Z"
   },
   {
    "duration": 2,
    "start_time": "2023-12-23T13:22:26.446Z"
   },
   {
    "duration": 3,
    "start_time": "2023-12-23T13:22:26.632Z"
   },
   {
    "duration": 3,
    "start_time": "2023-12-23T13:22:27.010Z"
   },
   {
    "duration": 11069,
    "start_time": "2023-12-23T13:22:27.337Z"
   },
   {
    "duration": 3,
    "start_time": "2023-12-23T13:22:38.408Z"
   },
   {
    "duration": 11,
    "start_time": "2023-12-23T13:22:38.412Z"
   },
   {
    "duration": 18,
    "start_time": "2023-12-23T13:22:38.425Z"
   },
   {
    "duration": 3,
    "start_time": "2023-12-23T13:22:47.703Z"
   },
   {
    "duration": 4,
    "start_time": "2023-12-23T13:22:47.859Z"
   },
   {
    "duration": 3,
    "start_time": "2023-12-23T13:22:48.018Z"
   },
   {
    "duration": 5,
    "start_time": "2023-12-23T13:22:49.294Z"
   },
   {
    "duration": 4,
    "start_time": "2023-12-23T13:22:49.450Z"
   },
   {
    "duration": 3,
    "start_time": "2023-12-23T13:22:49.598Z"
   },
   {
    "duration": 35,
    "start_time": "2023-12-23T13:22:49.906Z"
   },
   {
    "duration": 3,
    "start_time": "2023-12-23T13:22:50.065Z"
   },
   {
    "duration": 3,
    "start_time": "2023-12-23T13:22:50.222Z"
   },
   {
    "duration": 4,
    "start_time": "2023-12-23T13:22:50.539Z"
   },
   {
    "duration": 3,
    "start_time": "2023-12-23T13:22:50.693Z"
   },
   {
    "duration": 3,
    "start_time": "2023-12-23T13:22:50.846Z"
   },
   {
    "duration": 1474,
    "start_time": "2023-12-23T13:23:13.899Z"
   },
   {
    "duration": 47,
    "start_time": "2023-12-23T13:23:15.375Z"
   },
   {
    "duration": 11,
    "start_time": "2023-12-23T13:23:15.423Z"
   },
   {
    "duration": 16,
    "start_time": "2023-12-23T13:23:15.435Z"
   },
   {
    "duration": 7,
    "start_time": "2023-12-23T13:23:15.453Z"
   },
   {
    "duration": 13,
    "start_time": "2023-12-23T13:23:15.461Z"
   },
   {
    "duration": 6,
    "start_time": "2023-12-23T13:23:15.475Z"
   },
   {
    "duration": 19,
    "start_time": "2023-12-23T13:23:15.482Z"
   },
   {
    "duration": 394,
    "start_time": "2023-12-23T13:23:15.503Z"
   },
   {
    "duration": 2,
    "start_time": "2023-12-23T13:23:15.899Z"
   },
   {
    "duration": 17,
    "start_time": "2023-12-23T13:23:15.902Z"
   },
   {
    "duration": 336,
    "start_time": "2023-12-23T13:23:15.920Z"
   },
   {
    "duration": 278,
    "start_time": "2023-12-23T13:23:16.257Z"
   },
   {
    "duration": 4,
    "start_time": "2023-12-23T13:23:16.538Z"
   },
   {
    "duration": 9,
    "start_time": "2023-12-23T13:23:16.543Z"
   },
   {
    "duration": 8,
    "start_time": "2023-12-23T13:23:16.553Z"
   },
   {
    "duration": 359,
    "start_time": "2023-12-23T13:23:16.563Z"
   },
   {
    "duration": 10,
    "start_time": "2023-12-23T13:23:16.924Z"
   },
   {
    "duration": 6,
    "start_time": "2023-12-23T13:23:16.935Z"
   },
   {
    "duration": 11,
    "start_time": "2023-12-23T13:23:16.942Z"
   },
   {
    "duration": 12,
    "start_time": "2023-12-23T13:23:16.954Z"
   },
   {
    "duration": 6,
    "start_time": "2023-12-23T13:23:16.967Z"
   },
   {
    "duration": 11,
    "start_time": "2023-12-23T13:23:16.975Z"
   },
   {
    "duration": 13,
    "start_time": "2023-12-23T13:23:16.987Z"
   },
   {
    "duration": 22,
    "start_time": "2023-12-23T13:23:17.001Z"
   },
   {
    "duration": 63,
    "start_time": "2023-12-23T13:23:17.024Z"
   },
   {
    "duration": 3,
    "start_time": "2023-12-23T13:23:17.089Z"
   },
   {
    "duration": 41,
    "start_time": "2023-12-23T13:23:17.093Z"
   },
   {
    "duration": 22,
    "start_time": "2023-12-23T13:23:17.136Z"
   },
   {
    "duration": 28,
    "start_time": "2023-12-23T13:23:17.159Z"
   },
   {
    "duration": 10,
    "start_time": "2023-12-23T13:23:17.189Z"
   },
   {
    "duration": 10454,
    "start_time": "2023-12-23T13:23:17.201Z"
   },
   {
    "duration": 2,
    "start_time": "2023-12-23T13:23:27.657Z"
   },
   {
    "duration": 34,
    "start_time": "2023-12-23T13:23:27.661Z"
   },
   {
    "duration": 32,
    "start_time": "2023-12-23T13:23:27.696Z"
   },
   {
    "duration": 21,
    "start_time": "2023-12-23T13:23:27.729Z"
   },
   {
    "duration": 38,
    "start_time": "2023-12-23T13:23:27.752Z"
   },
   {
    "duration": 20,
    "start_time": "2023-12-23T13:23:27.792Z"
   },
   {
    "duration": 134,
    "start_time": "2023-12-23T13:23:27.814Z"
   },
   {
    "duration": 0,
    "start_time": "2023-12-23T13:23:27.949Z"
   },
   {
    "duration": 0,
    "start_time": "2023-12-23T13:23:27.951Z"
   },
   {
    "duration": 0,
    "start_time": "2023-12-23T13:23:27.952Z"
   },
   {
    "duration": 0,
    "start_time": "2023-12-23T13:23:27.953Z"
   },
   {
    "duration": 0,
    "start_time": "2023-12-23T13:23:27.954Z"
   },
   {
    "duration": 0,
    "start_time": "2023-12-23T13:23:27.955Z"
   },
   {
    "duration": 0,
    "start_time": "2023-12-23T13:23:27.956Z"
   },
   {
    "duration": 0,
    "start_time": "2023-12-23T13:23:27.957Z"
   },
   {
    "duration": 0,
    "start_time": "2023-12-23T13:23:27.958Z"
   },
   {
    "duration": 0,
    "start_time": "2023-12-23T13:23:27.960Z"
   },
   {
    "duration": 0,
    "start_time": "2023-12-23T13:23:27.961Z"
   },
   {
    "duration": 8,
    "start_time": "2023-12-23T13:24:04.327Z"
   },
   {
    "duration": 8,
    "start_time": "2023-12-23T13:24:04.829Z"
   },
   {
    "duration": 6,
    "start_time": "2023-12-23T13:24:10.738Z"
   },
   {
    "duration": 2,
    "start_time": "2023-12-23T13:24:10.914Z"
   },
   {
    "duration": 4,
    "start_time": "2023-12-23T13:24:11.082Z"
   },
   {
    "duration": 18,
    "start_time": "2023-12-23T13:24:11.504Z"
   },
   {
    "duration": 3,
    "start_time": "2023-12-23T13:24:12.307Z"
   },
   {
    "duration": 4,
    "start_time": "2023-12-23T13:24:12.489Z"
   },
   {
    "duration": 89,
    "start_time": "2023-12-23T13:24:13.080Z"
   },
   {
    "duration": 9,
    "start_time": "2023-12-23T13:24:13.310Z"
   },
   {
    "duration": 9,
    "start_time": "2023-12-23T13:24:13.471Z"
   },
   {
    "duration": 1389,
    "start_time": "2023-12-23T13:24:26.867Z"
   },
   {
    "duration": 48,
    "start_time": "2023-12-23T13:24:28.258Z"
   },
   {
    "duration": 12,
    "start_time": "2023-12-23T13:24:28.308Z"
   },
   {
    "duration": 15,
    "start_time": "2023-12-23T13:24:28.321Z"
   },
   {
    "duration": 30,
    "start_time": "2023-12-23T13:24:28.338Z"
   },
   {
    "duration": 6,
    "start_time": "2023-12-23T13:24:28.369Z"
   },
   {
    "duration": 4,
    "start_time": "2023-12-23T13:24:28.376Z"
   },
   {
    "duration": 14,
    "start_time": "2023-12-23T13:24:28.381Z"
   },
   {
    "duration": 381,
    "start_time": "2023-12-23T13:24:28.396Z"
   },
   {
    "duration": 3,
    "start_time": "2023-12-23T13:24:28.779Z"
   },
   {
    "duration": 31,
    "start_time": "2023-12-23T13:24:28.783Z"
   },
   {
    "duration": 323,
    "start_time": "2023-12-23T13:24:28.815Z"
   },
   {
    "duration": 281,
    "start_time": "2023-12-23T13:24:29.139Z"
   },
   {
    "duration": 4,
    "start_time": "2023-12-23T13:24:29.423Z"
   },
   {
    "duration": 20,
    "start_time": "2023-12-23T13:24:29.429Z"
   },
   {
    "duration": 33,
    "start_time": "2023-12-23T13:24:29.450Z"
   },
   {
    "duration": 355,
    "start_time": "2023-12-23T13:24:29.485Z"
   },
   {
    "duration": 9,
    "start_time": "2023-12-23T13:24:29.842Z"
   },
   {
    "duration": 22,
    "start_time": "2023-12-23T13:24:29.853Z"
   },
   {
    "duration": 15,
    "start_time": "2023-12-23T13:24:29.877Z"
   },
   {
    "duration": 16,
    "start_time": "2023-12-23T13:24:29.894Z"
   },
   {
    "duration": 24,
    "start_time": "2023-12-23T13:24:29.912Z"
   },
   {
    "duration": 24,
    "start_time": "2023-12-23T13:24:29.938Z"
   },
   {
    "duration": 6,
    "start_time": "2023-12-23T13:24:29.964Z"
   },
   {
    "duration": 20,
    "start_time": "2023-12-23T13:24:29.972Z"
   },
   {
    "duration": 77,
    "start_time": "2023-12-23T13:24:29.994Z"
   },
   {
    "duration": 30,
    "start_time": "2023-12-23T13:24:30.073Z"
   },
   {
    "duration": 63,
    "start_time": "2023-12-23T13:24:30.104Z"
   },
   {
    "duration": 50,
    "start_time": "2023-12-23T13:24:30.169Z"
   },
   {
    "duration": 30,
    "start_time": "2023-12-23T13:24:30.221Z"
   },
   {
    "duration": 78,
    "start_time": "2023-12-23T13:24:30.253Z"
   },
   {
    "duration": 10508,
    "start_time": "2023-12-23T13:24:30.332Z"
   },
   {
    "duration": 3,
    "start_time": "2023-12-23T13:24:40.841Z"
   },
   {
    "duration": 7,
    "start_time": "2023-12-23T13:24:40.845Z"
   },
   {
    "duration": 4,
    "start_time": "2023-12-23T13:24:40.854Z"
   },
   {
    "duration": 5,
    "start_time": "2023-12-23T13:24:40.859Z"
   },
   {
    "duration": 25,
    "start_time": "2023-12-23T13:24:40.865Z"
   },
   {
    "duration": 15,
    "start_time": "2023-12-23T13:24:40.891Z"
   },
   {
    "duration": 7,
    "start_time": "2023-12-23T13:24:40.907Z"
   },
   {
    "duration": 10,
    "start_time": "2023-12-23T13:24:40.915Z"
   },
   {
    "duration": 3,
    "start_time": "2023-12-23T13:24:40.928Z"
   },
   {
    "duration": 24,
    "start_time": "2023-12-23T13:24:40.932Z"
   },
   {
    "duration": 3,
    "start_time": "2023-12-23T13:24:40.957Z"
   },
   {
    "duration": 8,
    "start_time": "2023-12-23T13:24:40.962Z"
   },
   {
    "duration": 1411,
    "start_time": "2023-12-23T13:25:30.253Z"
   },
   {
    "duration": 48,
    "start_time": "2023-12-23T13:25:31.665Z"
   },
   {
    "duration": 12,
    "start_time": "2023-12-23T13:25:31.715Z"
   },
   {
    "duration": 46,
    "start_time": "2023-12-23T13:25:31.729Z"
   },
   {
    "duration": 38,
    "start_time": "2023-12-23T13:25:31.778Z"
   },
   {
    "duration": 18,
    "start_time": "2023-12-23T13:25:31.818Z"
   },
   {
    "duration": 26,
    "start_time": "2023-12-23T13:25:31.837Z"
   },
   {
    "duration": 25,
    "start_time": "2023-12-23T13:25:31.865Z"
   },
   {
    "duration": 405,
    "start_time": "2023-12-23T13:25:31.892Z"
   },
   {
    "duration": 3,
    "start_time": "2023-12-23T13:25:32.299Z"
   },
   {
    "duration": 29,
    "start_time": "2023-12-23T13:25:32.303Z"
   },
   {
    "duration": 331,
    "start_time": "2023-12-23T13:25:32.334Z"
   },
   {
    "duration": 308,
    "start_time": "2023-12-23T13:25:32.667Z"
   },
   {
    "duration": 4,
    "start_time": "2023-12-23T13:25:32.979Z"
   },
   {
    "duration": 6,
    "start_time": "2023-12-23T13:25:32.985Z"
   },
   {
    "duration": 6,
    "start_time": "2023-12-23T13:25:32.992Z"
   },
   {
    "duration": 376,
    "start_time": "2023-12-23T13:25:32.999Z"
   },
   {
    "duration": 12,
    "start_time": "2023-12-23T13:25:33.376Z"
   },
   {
    "duration": 6,
    "start_time": "2023-12-23T13:25:33.390Z"
   },
   {
    "duration": 25,
    "start_time": "2023-12-23T13:25:33.397Z"
   },
   {
    "duration": 5,
    "start_time": "2023-12-23T13:25:33.424Z"
   },
   {
    "duration": 5,
    "start_time": "2023-12-23T13:25:33.431Z"
   },
   {
    "duration": 13,
    "start_time": "2023-12-23T13:25:33.438Z"
   },
   {
    "duration": 8,
    "start_time": "2023-12-23T13:25:33.453Z"
   },
   {
    "duration": 4,
    "start_time": "2023-12-23T13:25:33.462Z"
   },
   {
    "duration": 71,
    "start_time": "2023-12-23T13:25:33.468Z"
   },
   {
    "duration": 3,
    "start_time": "2023-12-23T13:25:33.540Z"
   },
   {
    "duration": 4,
    "start_time": "2023-12-23T13:25:33.545Z"
   },
   {
    "duration": 16,
    "start_time": "2023-12-23T13:25:33.550Z"
   },
   {
    "duration": 11,
    "start_time": "2023-12-23T13:25:33.567Z"
   },
   {
    "duration": 7,
    "start_time": "2023-12-23T13:25:33.579Z"
   },
   {
    "duration": 10150,
    "start_time": "2023-12-23T13:25:33.587Z"
   },
   {
    "duration": 4,
    "start_time": "2023-12-23T13:25:43.738Z"
   },
   {
    "duration": 14,
    "start_time": "2023-12-23T13:25:43.743Z"
   },
   {
    "duration": 5,
    "start_time": "2023-12-23T13:25:43.759Z"
   },
   {
    "duration": 19,
    "start_time": "2023-12-23T13:25:43.766Z"
   },
   {
    "duration": 5,
    "start_time": "2023-12-23T13:25:43.786Z"
   },
   {
    "duration": 6,
    "start_time": "2023-12-23T13:25:43.792Z"
   },
   {
    "duration": 7,
    "start_time": "2023-12-23T13:25:43.799Z"
   },
   {
    "duration": 15,
    "start_time": "2023-12-23T13:25:43.807Z"
   },
   {
    "duration": 4,
    "start_time": "2023-12-23T13:25:43.826Z"
   },
   {
    "duration": 14,
    "start_time": "2023-12-23T13:25:43.831Z"
   },
   {
    "duration": 4,
    "start_time": "2023-12-23T13:25:43.846Z"
   },
   {
    "duration": 16,
    "start_time": "2023-12-23T13:25:43.851Z"
   },
   {
    "duration": 1407,
    "start_time": "2023-12-23T13:26:06.634Z"
   },
   {
    "duration": 47,
    "start_time": "2023-12-23T13:26:08.043Z"
   },
   {
    "duration": 12,
    "start_time": "2023-12-23T13:26:08.092Z"
   },
   {
    "duration": 29,
    "start_time": "2023-12-23T13:26:08.105Z"
   },
   {
    "duration": 8,
    "start_time": "2023-12-23T13:26:08.136Z"
   },
   {
    "duration": 26,
    "start_time": "2023-12-23T13:26:08.145Z"
   },
   {
    "duration": 19,
    "start_time": "2023-12-23T13:26:08.172Z"
   },
   {
    "duration": 27,
    "start_time": "2023-12-23T13:26:08.192Z"
   },
   {
    "duration": 413,
    "start_time": "2023-12-23T13:26:08.220Z"
   },
   {
    "duration": 3,
    "start_time": "2023-12-23T13:26:08.635Z"
   },
   {
    "duration": 21,
    "start_time": "2023-12-23T13:26:08.639Z"
   },
   {
    "duration": 324,
    "start_time": "2023-12-23T13:26:08.661Z"
   },
   {
    "duration": 294,
    "start_time": "2023-12-23T13:26:08.986Z"
   },
   {
    "duration": 4,
    "start_time": "2023-12-23T13:26:09.283Z"
   },
   {
    "duration": 8,
    "start_time": "2023-12-23T13:26:09.288Z"
   },
   {
    "duration": 4,
    "start_time": "2023-12-23T13:26:09.298Z"
   },
   {
    "duration": 375,
    "start_time": "2023-12-23T13:26:09.303Z"
   },
   {
    "duration": 8,
    "start_time": "2023-12-23T13:26:09.680Z"
   },
   {
    "duration": 124,
    "start_time": "2023-12-23T13:26:09.689Z"
   },
   {
    "duration": 0,
    "start_time": "2023-12-23T13:26:09.814Z"
   },
   {
    "duration": 0,
    "start_time": "2023-12-23T13:26:09.816Z"
   },
   {
    "duration": 0,
    "start_time": "2023-12-23T13:26:09.821Z"
   },
   {
    "duration": 0,
    "start_time": "2023-12-23T13:26:09.822Z"
   },
   {
    "duration": 0,
    "start_time": "2023-12-23T13:26:09.823Z"
   },
   {
    "duration": 0,
    "start_time": "2023-12-23T13:26:09.824Z"
   },
   {
    "duration": 0,
    "start_time": "2023-12-23T13:26:09.825Z"
   },
   {
    "duration": 0,
    "start_time": "2023-12-23T13:26:09.826Z"
   },
   {
    "duration": 0,
    "start_time": "2023-12-23T13:26:09.827Z"
   },
   {
    "duration": 0,
    "start_time": "2023-12-23T13:26:09.828Z"
   },
   {
    "duration": 0,
    "start_time": "2023-12-23T13:26:09.829Z"
   },
   {
    "duration": 0,
    "start_time": "2023-12-23T13:26:09.830Z"
   },
   {
    "duration": 0,
    "start_time": "2023-12-23T13:26:09.831Z"
   },
   {
    "duration": 0,
    "start_time": "2023-12-23T13:26:09.831Z"
   },
   {
    "duration": 0,
    "start_time": "2023-12-23T13:26:09.832Z"
   },
   {
    "duration": 0,
    "start_time": "2023-12-23T13:26:09.834Z"
   },
   {
    "duration": 0,
    "start_time": "2023-12-23T13:26:09.835Z"
   },
   {
    "duration": 0,
    "start_time": "2023-12-23T13:26:09.835Z"
   },
   {
    "duration": 0,
    "start_time": "2023-12-23T13:26:09.836Z"
   },
   {
    "duration": 0,
    "start_time": "2023-12-23T13:26:09.837Z"
   },
   {
    "duration": 0,
    "start_time": "2023-12-23T13:26:09.838Z"
   },
   {
    "duration": 0,
    "start_time": "2023-12-23T13:26:09.839Z"
   },
   {
    "duration": 0,
    "start_time": "2023-12-23T13:26:09.840Z"
   },
   {
    "duration": 0,
    "start_time": "2023-12-23T13:26:09.841Z"
   },
   {
    "duration": 0,
    "start_time": "2023-12-23T13:26:09.842Z"
   },
   {
    "duration": 1403,
    "start_time": "2023-12-23T13:26:42.541Z"
   },
   {
    "duration": 47,
    "start_time": "2023-12-23T13:26:43.946Z"
   },
   {
    "duration": 11,
    "start_time": "2023-12-23T13:26:43.994Z"
   },
   {
    "duration": 11,
    "start_time": "2023-12-23T13:26:44.007Z"
   },
   {
    "duration": 8,
    "start_time": "2023-12-23T13:26:44.020Z"
   },
   {
    "duration": 10,
    "start_time": "2023-12-23T13:26:44.029Z"
   },
   {
    "duration": 6,
    "start_time": "2023-12-23T13:26:44.041Z"
   },
   {
    "duration": 24,
    "start_time": "2023-12-23T13:26:44.049Z"
   },
   {
    "duration": 402,
    "start_time": "2023-12-23T13:26:44.075Z"
   },
   {
    "duration": 3,
    "start_time": "2023-12-23T13:26:44.479Z"
   },
   {
    "duration": 14,
    "start_time": "2023-12-23T13:26:44.483Z"
   },
   {
    "duration": 332,
    "start_time": "2023-12-23T13:26:44.499Z"
   },
   {
    "duration": 284,
    "start_time": "2023-12-23T13:26:44.832Z"
   },
   {
    "duration": 5,
    "start_time": "2023-12-23T13:26:45.121Z"
   },
   {
    "duration": 32,
    "start_time": "2023-12-23T13:26:45.127Z"
   },
   {
    "duration": 4,
    "start_time": "2023-12-23T13:26:45.161Z"
   },
   {
    "duration": 355,
    "start_time": "2023-12-23T13:26:45.167Z"
   },
   {
    "duration": 10,
    "start_time": "2023-12-23T13:26:45.524Z"
   },
   {
    "duration": 6,
    "start_time": "2023-12-23T13:26:45.535Z"
   },
   {
    "duration": 10,
    "start_time": "2023-12-23T13:26:45.543Z"
   },
   {
    "duration": 4,
    "start_time": "2023-12-23T13:26:45.555Z"
   },
   {
    "duration": 4,
    "start_time": "2023-12-23T13:26:45.561Z"
   },
   {
    "duration": 35,
    "start_time": "2023-12-23T13:26:45.566Z"
   },
   {
    "duration": 7,
    "start_time": "2023-12-23T13:26:45.602Z"
   },
   {
    "duration": 4,
    "start_time": "2023-12-23T13:26:45.610Z"
   },
   {
    "duration": 55,
    "start_time": "2023-12-23T13:26:45.615Z"
   },
   {
    "duration": 3,
    "start_time": "2023-12-23T13:26:45.671Z"
   },
   {
    "duration": 6,
    "start_time": "2023-12-23T13:26:45.675Z"
   },
   {
    "duration": 4,
    "start_time": "2023-12-23T13:26:45.682Z"
   },
   {
    "duration": 9,
    "start_time": "2023-12-23T13:26:45.688Z"
   },
   {
    "duration": 16,
    "start_time": "2023-12-23T13:26:45.698Z"
   },
   {
    "duration": 10198,
    "start_time": "2023-12-23T13:26:45.721Z"
   },
   {
    "duration": 3,
    "start_time": "2023-12-23T13:26:55.920Z"
   },
   {
    "duration": 14,
    "start_time": "2023-12-23T13:26:55.924Z"
   },
   {
    "duration": 3,
    "start_time": "2023-12-23T13:26:55.940Z"
   },
   {
    "duration": 6,
    "start_time": "2023-12-23T13:26:55.945Z"
   },
   {
    "duration": 3,
    "start_time": "2023-12-23T13:26:55.953Z"
   },
   {
    "duration": 8,
    "start_time": "2023-12-23T13:26:55.958Z"
   },
   {
    "duration": 10,
    "start_time": "2023-12-23T13:26:55.968Z"
   },
   {
    "duration": 12,
    "start_time": "2023-12-23T13:26:55.979Z"
   },
   {
    "duration": 13,
    "start_time": "2023-12-23T13:26:55.995Z"
   },
   {
    "duration": 22,
    "start_time": "2023-12-23T13:26:56.010Z"
   },
   {
    "duration": 13,
    "start_time": "2023-12-23T13:26:56.033Z"
   },
   {
    "duration": 7,
    "start_time": "2023-12-23T13:26:56.047Z"
   },
   {
    "duration": 1443,
    "start_time": "2023-12-23T13:27:54.289Z"
   },
   {
    "duration": 46,
    "start_time": "2023-12-23T13:27:55.735Z"
   },
   {
    "duration": 11,
    "start_time": "2023-12-23T13:27:55.782Z"
   },
   {
    "duration": 34,
    "start_time": "2023-12-23T13:27:55.794Z"
   },
   {
    "duration": 25,
    "start_time": "2023-12-23T13:27:55.830Z"
   },
   {
    "duration": 8,
    "start_time": "2023-12-23T13:27:55.857Z"
   },
   {
    "duration": 36,
    "start_time": "2023-12-23T13:27:55.866Z"
   },
   {
    "duration": 48,
    "start_time": "2023-12-23T13:27:55.904Z"
   },
   {
    "duration": 463,
    "start_time": "2023-12-23T13:27:55.954Z"
   },
   {
    "duration": 3,
    "start_time": "2023-12-23T13:27:56.419Z"
   },
   {
    "duration": 7,
    "start_time": "2023-12-23T13:27:56.423Z"
   },
   {
    "duration": 329,
    "start_time": "2023-12-23T13:27:56.431Z"
   },
   {
    "duration": 287,
    "start_time": "2023-12-23T13:27:56.761Z"
   },
   {
    "duration": 5,
    "start_time": "2023-12-23T13:27:57.050Z"
   },
   {
    "duration": 40,
    "start_time": "2023-12-23T13:27:57.056Z"
   },
   {
    "duration": 26,
    "start_time": "2023-12-23T13:27:57.097Z"
   },
   {
    "duration": 421,
    "start_time": "2023-12-23T13:27:57.124Z"
   },
   {
    "duration": 12,
    "start_time": "2023-12-23T13:27:57.547Z"
   },
   {
    "duration": 7,
    "start_time": "2023-12-23T13:27:57.560Z"
   },
   {
    "duration": 14,
    "start_time": "2023-12-23T13:27:57.568Z"
   },
   {
    "duration": 20,
    "start_time": "2023-12-23T13:27:57.583Z"
   },
   {
    "duration": 8,
    "start_time": "2023-12-23T13:27:57.605Z"
   },
   {
    "duration": 12,
    "start_time": "2023-12-23T13:27:57.614Z"
   },
   {
    "duration": 2,
    "start_time": "2023-12-23T13:27:57.628Z"
   },
   {
    "duration": 4,
    "start_time": "2023-12-23T13:27:57.631Z"
   },
   {
    "duration": 58,
    "start_time": "2023-12-23T13:27:57.637Z"
   },
   {
    "duration": 2,
    "start_time": "2023-12-23T13:27:57.697Z"
   },
   {
    "duration": 20,
    "start_time": "2023-12-23T13:27:57.701Z"
   },
   {
    "duration": 13,
    "start_time": "2023-12-23T13:27:57.722Z"
   },
   {
    "duration": 28,
    "start_time": "2023-12-23T13:27:57.736Z"
   },
   {
    "duration": 8,
    "start_time": "2023-12-23T13:27:57.766Z"
   },
   {
    "duration": 10298,
    "start_time": "2023-12-23T13:27:57.775Z"
   },
   {
    "duration": 3,
    "start_time": "2023-12-23T13:28:08.074Z"
   },
   {
    "duration": 31,
    "start_time": "2023-12-23T13:28:08.078Z"
   },
   {
    "duration": 18,
    "start_time": "2023-12-23T13:28:08.110Z"
   },
   {
    "duration": 8,
    "start_time": "2023-12-23T13:28:08.130Z"
   },
   {
    "duration": 6,
    "start_time": "2023-12-23T13:28:08.140Z"
   },
   {
    "duration": 35,
    "start_time": "2023-12-23T13:28:08.147Z"
   },
   {
    "duration": 27,
    "start_time": "2023-12-23T13:28:08.183Z"
   },
   {
    "duration": 8,
    "start_time": "2023-12-23T13:28:08.211Z"
   },
   {
    "duration": 12,
    "start_time": "2023-12-23T13:28:08.223Z"
   },
   {
    "duration": 45,
    "start_time": "2023-12-23T13:28:08.236Z"
   },
   {
    "duration": 4,
    "start_time": "2023-12-23T13:28:08.283Z"
   },
   {
    "duration": 24,
    "start_time": "2023-12-23T13:28:08.289Z"
   },
   {
    "duration": 1391,
    "start_time": "2023-12-23T13:28:25.454Z"
   },
   {
    "duration": 49,
    "start_time": "2023-12-23T13:28:26.847Z"
   },
   {
    "duration": 12,
    "start_time": "2023-12-23T13:28:26.898Z"
   },
   {
    "duration": 9,
    "start_time": "2023-12-23T13:28:26.911Z"
   },
   {
    "duration": 16,
    "start_time": "2023-12-23T13:28:26.922Z"
   },
   {
    "duration": 12,
    "start_time": "2023-12-23T13:28:26.939Z"
   },
   {
    "duration": 4,
    "start_time": "2023-12-23T13:28:26.953Z"
   },
   {
    "duration": 18,
    "start_time": "2023-12-23T13:28:26.958Z"
   },
   {
    "duration": 410,
    "start_time": "2023-12-23T13:28:26.979Z"
   },
   {
    "duration": 4,
    "start_time": "2023-12-23T13:28:27.391Z"
   },
   {
    "duration": 8,
    "start_time": "2023-12-23T13:28:27.396Z"
   },
   {
    "duration": 326,
    "start_time": "2023-12-23T13:28:27.405Z"
   },
   {
    "duration": 274,
    "start_time": "2023-12-23T13:28:27.733Z"
   },
   {
    "duration": 4,
    "start_time": "2023-12-23T13:28:28.010Z"
   },
   {
    "duration": 13,
    "start_time": "2023-12-23T13:28:28.023Z"
   },
   {
    "duration": 6,
    "start_time": "2023-12-23T13:28:28.037Z"
   },
   {
    "duration": 369,
    "start_time": "2023-12-23T13:28:28.044Z"
   },
   {
    "duration": 16,
    "start_time": "2023-12-23T13:28:28.415Z"
   },
   {
    "duration": 7,
    "start_time": "2023-12-23T13:28:28.432Z"
   },
   {
    "duration": 5,
    "start_time": "2023-12-23T13:28:28.440Z"
   },
   {
    "duration": 12,
    "start_time": "2023-12-23T13:28:28.447Z"
   },
   {
    "duration": 10,
    "start_time": "2023-12-23T13:28:28.460Z"
   },
   {
    "duration": 21,
    "start_time": "2023-12-23T13:28:28.472Z"
   },
   {
    "duration": 3,
    "start_time": "2023-12-23T13:28:28.495Z"
   },
   {
    "duration": 4,
    "start_time": "2023-12-23T13:28:28.499Z"
   },
   {
    "duration": 50,
    "start_time": "2023-12-23T13:28:28.523Z"
   },
   {
    "duration": 3,
    "start_time": "2023-12-23T13:28:28.575Z"
   },
   {
    "duration": 9,
    "start_time": "2023-12-23T13:28:28.580Z"
   },
   {
    "duration": 3,
    "start_time": "2023-12-23T13:28:28.591Z"
   },
   {
    "duration": 3,
    "start_time": "2023-12-23T13:28:28.622Z"
   },
   {
    "duration": 6,
    "start_time": "2023-12-23T13:28:28.627Z"
   },
   {
    "duration": 10310,
    "start_time": "2023-12-23T13:28:28.634Z"
   },
   {
    "duration": 2,
    "start_time": "2023-12-23T13:28:38.946Z"
   },
   {
    "duration": 42,
    "start_time": "2023-12-23T13:28:38.950Z"
   },
   {
    "duration": 21,
    "start_time": "2023-12-23T13:28:38.993Z"
   },
   {
    "duration": 9,
    "start_time": "2023-12-23T13:28:39.015Z"
   },
   {
    "duration": 20,
    "start_time": "2023-12-23T13:28:39.025Z"
   },
   {
    "duration": 10,
    "start_time": "2023-12-23T13:28:39.047Z"
   },
   {
    "duration": 31,
    "start_time": "2023-12-23T13:28:39.058Z"
   },
   {
    "duration": 16,
    "start_time": "2023-12-23T13:28:39.090Z"
   },
   {
    "duration": 5,
    "start_time": "2023-12-23T13:28:39.110Z"
   },
   {
    "duration": 32,
    "start_time": "2023-12-23T13:28:39.116Z"
   },
   {
    "duration": 27,
    "start_time": "2023-12-23T13:28:39.149Z"
   },
   {
    "duration": 67,
    "start_time": "2023-12-23T13:28:39.177Z"
   },
   {
    "duration": 1397,
    "start_time": "2023-12-23T13:29:26.152Z"
   },
   {
    "duration": 47,
    "start_time": "2023-12-23T13:29:27.551Z"
   },
   {
    "duration": 11,
    "start_time": "2023-12-23T13:29:27.599Z"
   },
   {
    "duration": 10,
    "start_time": "2023-12-23T13:29:27.612Z"
   },
   {
    "duration": 15,
    "start_time": "2023-12-23T13:29:27.624Z"
   },
   {
    "duration": 7,
    "start_time": "2023-12-23T13:29:27.641Z"
   },
   {
    "duration": 5,
    "start_time": "2023-12-23T13:29:27.649Z"
   },
   {
    "duration": 14,
    "start_time": "2023-12-23T13:29:27.656Z"
   },
   {
    "duration": 417,
    "start_time": "2023-12-23T13:29:27.672Z"
   },
   {
    "duration": 3,
    "start_time": "2023-12-23T13:29:28.091Z"
   },
   {
    "duration": 9,
    "start_time": "2023-12-23T13:29:28.096Z"
   },
   {
    "duration": 318,
    "start_time": "2023-12-23T13:29:28.107Z"
   },
   {
    "duration": 278,
    "start_time": "2023-12-23T13:29:28.427Z"
   },
   {
    "duration": 14,
    "start_time": "2023-12-23T13:29:28.709Z"
   },
   {
    "duration": 5,
    "start_time": "2023-12-23T13:29:28.725Z"
   },
   {
    "duration": 5,
    "start_time": "2023-12-23T13:29:28.731Z"
   },
   {
    "duration": 388,
    "start_time": "2023-12-23T13:29:28.738Z"
   },
   {
    "duration": 11,
    "start_time": "2023-12-23T13:29:29.128Z"
   },
   {
    "duration": 6,
    "start_time": "2023-12-23T13:29:29.140Z"
   },
   {
    "duration": 27,
    "start_time": "2023-12-23T13:29:29.148Z"
   },
   {
    "duration": 33,
    "start_time": "2023-12-23T13:29:29.176Z"
   },
   {
    "duration": 39,
    "start_time": "2023-12-23T13:29:29.210Z"
   },
   {
    "duration": 28,
    "start_time": "2023-12-23T13:29:29.250Z"
   },
   {
    "duration": 13,
    "start_time": "2023-12-23T13:29:29.279Z"
   },
   {
    "duration": 32,
    "start_time": "2023-12-23T13:29:29.294Z"
   },
   {
    "duration": 63,
    "start_time": "2023-12-23T13:29:29.328Z"
   },
   {
    "duration": 3,
    "start_time": "2023-12-23T13:29:29.392Z"
   },
   {
    "duration": 25,
    "start_time": "2023-12-23T13:29:29.397Z"
   },
   {
    "duration": 12,
    "start_time": "2023-12-23T13:29:29.424Z"
   },
   {
    "duration": 24,
    "start_time": "2023-12-23T13:29:29.437Z"
   },
   {
    "duration": 5,
    "start_time": "2023-12-23T13:29:29.463Z"
   },
   {
    "duration": 10282,
    "start_time": "2023-12-23T13:29:29.470Z"
   },
   {
    "duration": 3,
    "start_time": "2023-12-23T13:29:39.753Z"
   },
   {
    "duration": 6,
    "start_time": "2023-12-23T13:29:39.758Z"
   },
   {
    "duration": 5,
    "start_time": "2023-12-23T13:29:39.766Z"
   },
   {
    "duration": 12,
    "start_time": "2023-12-23T13:29:39.773Z"
   },
   {
    "duration": 5,
    "start_time": "2023-12-23T13:29:39.786Z"
   },
   {
    "duration": 3,
    "start_time": "2023-12-23T13:29:39.793Z"
   },
   {
    "duration": 210451,
    "start_time": "2023-12-23T13:29:39.798Z"
   },
   {
    "duration": 2,
    "start_time": "2023-12-23T13:33:10.251Z"
   },
   {
    "duration": 12,
    "start_time": "2023-12-23T13:33:10.256Z"
   },
   {
    "duration": 46,
    "start_time": "2023-12-23T13:33:10.269Z"
   },
   {
    "duration": 67,
    "start_time": "2023-12-23T13:33:10.317Z"
   },
   {
    "duration": 11,
    "start_time": "2023-12-23T13:33:10.386Z"
   },
   {
    "duration": 33,
    "start_time": "2023-12-23T13:33:10.398Z"
   },
   {
    "duration": 43,
    "start_time": "2023-12-23T13:33:10.432Z"
   },
   {
    "duration": 3,
    "start_time": "2023-12-23T13:33:10.477Z"
   },
   {
    "duration": 9,
    "start_time": "2023-12-23T13:33:10.482Z"
   },
   {
    "duration": 17,
    "start_time": "2023-12-23T13:33:10.493Z"
   },
   {
    "duration": 29,
    "start_time": "2023-12-23T13:33:10.512Z"
   },
   {
    "duration": 9,
    "start_time": "2023-12-23T13:33:10.543Z"
   },
   {
    "duration": 1374,
    "start_time": "2023-12-23T13:35:23.154Z"
   },
   {
    "duration": 46,
    "start_time": "2023-12-23T13:35:24.530Z"
   },
   {
    "duration": 11,
    "start_time": "2023-12-23T13:35:24.578Z"
   },
   {
    "duration": 42,
    "start_time": "2023-12-23T13:35:24.590Z"
   },
   {
    "duration": 34,
    "start_time": "2023-12-23T13:35:24.634Z"
   },
   {
    "duration": 30,
    "start_time": "2023-12-23T13:35:24.669Z"
   },
   {
    "duration": 25,
    "start_time": "2023-12-23T13:35:24.701Z"
   },
   {
    "duration": 31,
    "start_time": "2023-12-23T13:35:24.727Z"
   },
   {
    "duration": 453,
    "start_time": "2023-12-23T13:35:24.760Z"
   },
   {
    "duration": 3,
    "start_time": "2023-12-23T13:35:25.214Z"
   },
   {
    "duration": 70,
    "start_time": "2023-12-23T13:35:25.219Z"
   },
   {
    "duration": 335,
    "start_time": "2023-12-23T13:35:25.291Z"
   },
   {
    "duration": 277,
    "start_time": "2023-12-23T13:35:25.627Z"
   },
   {
    "duration": 4,
    "start_time": "2023-12-23T13:35:25.907Z"
   },
   {
    "duration": 15,
    "start_time": "2023-12-23T13:35:25.922Z"
   },
   {
    "duration": 32,
    "start_time": "2023-12-23T13:35:25.938Z"
   },
   {
    "duration": 380,
    "start_time": "2023-12-23T13:35:25.971Z"
   },
   {
    "duration": 10,
    "start_time": "2023-12-23T13:35:26.353Z"
   },
   {
    "duration": 31,
    "start_time": "2023-12-23T13:35:26.364Z"
   },
   {
    "duration": 9,
    "start_time": "2023-12-23T13:35:26.397Z"
   },
   {
    "duration": 22,
    "start_time": "2023-12-23T13:35:26.407Z"
   },
   {
    "duration": 6,
    "start_time": "2023-12-23T13:35:26.430Z"
   },
   {
    "duration": 18,
    "start_time": "2023-12-23T13:35:26.437Z"
   },
   {
    "duration": 30,
    "start_time": "2023-12-23T13:35:26.456Z"
   },
   {
    "duration": 22,
    "start_time": "2023-12-23T13:35:26.488Z"
   },
   {
    "duration": 68,
    "start_time": "2023-12-23T13:35:26.512Z"
   },
   {
    "duration": 2,
    "start_time": "2023-12-23T13:35:26.582Z"
   },
   {
    "duration": 5,
    "start_time": "2023-12-23T13:35:26.585Z"
   },
   {
    "duration": 9,
    "start_time": "2023-12-23T13:35:26.591Z"
   },
   {
    "duration": 13,
    "start_time": "2023-12-23T13:35:26.602Z"
   },
   {
    "duration": 8,
    "start_time": "2023-12-23T13:35:26.616Z"
   },
   {
    "duration": 10294,
    "start_time": "2023-12-23T13:35:26.626Z"
   },
   {
    "duration": 2,
    "start_time": "2023-12-23T13:35:36.922Z"
   },
   {
    "duration": 21,
    "start_time": "2023-12-23T13:35:36.926Z"
   },
   {
    "duration": 6,
    "start_time": "2023-12-23T13:35:36.948Z"
   },
   {
    "duration": 16,
    "start_time": "2023-12-23T13:35:36.956Z"
   },
   {
    "duration": 7,
    "start_time": "2023-12-23T13:35:36.973Z"
   },
   {
    "duration": 25,
    "start_time": "2023-12-23T13:35:36.981Z"
   },
   {
    "duration": 206227,
    "start_time": "2023-12-23T13:35:37.008Z"
   },
   {
    "duration": 2,
    "start_time": "2023-12-23T13:39:03.237Z"
   },
   {
    "duration": 18,
    "start_time": "2023-12-23T13:39:03.244Z"
   },
   {
    "duration": 36,
    "start_time": "2023-12-23T13:39:03.264Z"
   },
   {
    "duration": 16,
    "start_time": "2023-12-23T13:39:03.302Z"
   },
   {
    "duration": 22,
    "start_time": "2023-12-23T13:39:03.320Z"
   },
   {
    "duration": 25,
    "start_time": "2023-12-23T13:39:03.343Z"
   },
   {
    "duration": 39,
    "start_time": "2023-12-23T13:39:03.370Z"
   },
   {
    "duration": 3,
    "start_time": "2023-12-23T13:39:03.411Z"
   },
   {
    "duration": 16,
    "start_time": "2023-12-23T13:39:03.416Z"
   },
   {
    "duration": 14,
    "start_time": "2023-12-23T13:39:03.434Z"
   },
   {
    "duration": 23,
    "start_time": "2023-12-23T13:39:03.449Z"
   },
   {
    "duration": 10,
    "start_time": "2023-12-23T13:39:03.474Z"
   },
   {
    "duration": 1621,
    "start_time": "2023-12-23T16:46:18.625Z"
   },
   {
    "duration": 108,
    "start_time": "2023-12-23T16:46:20.248Z"
   },
   {
    "duration": 11,
    "start_time": "2023-12-23T16:46:20.357Z"
   },
   {
    "duration": 24,
    "start_time": "2023-12-23T16:46:20.369Z"
   },
   {
    "duration": 10,
    "start_time": "2023-12-23T16:46:20.395Z"
   },
   {
    "duration": 4,
    "start_time": "2023-12-23T16:46:20.407Z"
   },
   {
    "duration": 10,
    "start_time": "2023-12-23T16:46:20.412Z"
   },
   {
    "duration": 15,
    "start_time": "2023-12-23T16:46:20.423Z"
   },
   {
    "duration": 392,
    "start_time": "2023-12-23T16:46:20.439Z"
   },
   {
    "duration": 3,
    "start_time": "2023-12-23T16:46:20.832Z"
   },
   {
    "duration": 16,
    "start_time": "2023-12-23T16:46:20.837Z"
   },
   {
    "duration": 319,
    "start_time": "2023-12-23T16:46:20.855Z"
   },
   {
    "duration": 267,
    "start_time": "2023-12-23T16:46:21.175Z"
   },
   {
    "duration": 4,
    "start_time": "2023-12-23T16:46:21.444Z"
   },
   {
    "duration": 16,
    "start_time": "2023-12-23T16:46:21.449Z"
   },
   {
    "duration": 3,
    "start_time": "2023-12-23T16:46:21.467Z"
   },
   {
    "duration": 346,
    "start_time": "2023-12-23T16:46:21.471Z"
   },
   {
    "duration": 10,
    "start_time": "2023-12-23T16:46:21.818Z"
   },
   {
    "duration": 6,
    "start_time": "2023-12-23T16:46:21.829Z"
   },
   {
    "duration": 6,
    "start_time": "2023-12-23T16:46:21.837Z"
   },
   {
    "duration": 21,
    "start_time": "2023-12-23T16:46:21.844Z"
   },
   {
    "duration": 6,
    "start_time": "2023-12-23T16:46:21.867Z"
   },
   {
    "duration": 10,
    "start_time": "2023-12-23T16:46:21.874Z"
   },
   {
    "duration": 6,
    "start_time": "2023-12-23T16:46:21.885Z"
   },
   {
    "duration": 13,
    "start_time": "2023-12-23T16:46:21.892Z"
   },
   {
    "duration": 50,
    "start_time": "2023-12-23T16:46:21.907Z"
   },
   {
    "duration": 7,
    "start_time": "2023-12-23T16:46:21.958Z"
   },
   {
    "duration": 3,
    "start_time": "2023-12-23T16:46:21.967Z"
   },
   {
    "duration": 5,
    "start_time": "2023-12-23T16:46:21.972Z"
   },
   {
    "duration": 5,
    "start_time": "2023-12-23T16:46:21.978Z"
   },
   {
    "duration": 5,
    "start_time": "2023-12-23T16:46:21.984Z"
   },
   {
    "duration": 9879,
    "start_time": "2023-12-23T16:46:21.990Z"
   },
   {
    "duration": 2,
    "start_time": "2023-12-23T16:46:31.871Z"
   },
   {
    "duration": 6,
    "start_time": "2023-12-23T16:46:31.875Z"
   },
   {
    "duration": 5,
    "start_time": "2023-12-23T16:46:31.883Z"
   },
   {
    "duration": 18,
    "start_time": "2023-12-23T16:46:31.889Z"
   },
   {
    "duration": 9,
    "start_time": "2023-12-23T16:46:31.908Z"
   },
   {
    "duration": 15,
    "start_time": "2023-12-23T16:46:31.919Z"
   },
   {
    "duration": 197922,
    "start_time": "2023-12-23T16:46:31.936Z"
   },
   {
    "duration": 3,
    "start_time": "2023-12-23T16:49:49.859Z"
   },
   {
    "duration": 16,
    "start_time": "2023-12-23T16:49:49.865Z"
   },
   {
    "duration": 79,
    "start_time": "2023-12-23T16:49:49.883Z"
   },
   {
    "duration": 58,
    "start_time": "2023-12-23T16:49:49.963Z"
   },
   {
    "duration": 35,
    "start_time": "2023-12-23T16:49:50.023Z"
   },
   {
    "duration": 18,
    "start_time": "2023-12-23T16:49:50.060Z"
   },
   {
    "duration": 53,
    "start_time": "2023-12-23T16:49:50.079Z"
   },
   {
    "duration": 5,
    "start_time": "2023-12-23T16:49:50.133Z"
   },
   {
    "duration": 38,
    "start_time": "2023-12-23T16:49:50.139Z"
   },
   {
    "duration": 18,
    "start_time": "2023-12-23T16:49:50.179Z"
   },
   {
    "duration": 24,
    "start_time": "2023-12-23T16:49:50.199Z"
   },
   {
    "duration": 22,
    "start_time": "2023-12-23T16:49:50.225Z"
   },
   {
    "duration": 68,
    "start_time": "2023-12-23T16:52:19.360Z"
   },
   {
    "duration": 4,
    "start_time": "2023-12-23T16:52:47.798Z"
   },
   {
    "duration": 1416,
    "start_time": "2023-12-23T16:52:53.994Z"
   },
   {
    "duration": 46,
    "start_time": "2023-12-23T16:52:55.412Z"
   },
   {
    "duration": 12,
    "start_time": "2023-12-23T16:52:55.459Z"
   },
   {
    "duration": 38,
    "start_time": "2023-12-23T16:52:55.472Z"
   },
   {
    "duration": 10,
    "start_time": "2023-12-23T16:52:55.512Z"
   },
   {
    "duration": 25,
    "start_time": "2023-12-23T16:52:55.523Z"
   },
   {
    "duration": 23,
    "start_time": "2023-12-23T16:52:55.549Z"
   },
   {
    "duration": 28,
    "start_time": "2023-12-23T16:52:55.573Z"
   },
   {
    "duration": 493,
    "start_time": "2023-12-23T16:52:55.602Z"
   },
   {
    "duration": 3,
    "start_time": "2023-12-23T16:52:56.097Z"
   },
   {
    "duration": 28,
    "start_time": "2023-12-23T16:52:56.103Z"
   },
   {
    "duration": 329,
    "start_time": "2023-12-23T16:52:56.133Z"
   },
   {
    "duration": 284,
    "start_time": "2023-12-23T16:52:56.466Z"
   },
   {
    "duration": 11,
    "start_time": "2023-12-23T16:52:56.754Z"
   },
   {
    "duration": 5,
    "start_time": "2023-12-23T16:52:56.767Z"
   },
   {
    "duration": 4,
    "start_time": "2023-12-23T16:52:56.773Z"
   },
   {
    "duration": 376,
    "start_time": "2023-12-23T16:52:56.778Z"
   },
   {
    "duration": 16,
    "start_time": "2023-12-23T16:52:57.155Z"
   },
   {
    "duration": 7,
    "start_time": "2023-12-23T16:52:57.173Z"
   },
   {
    "duration": 8,
    "start_time": "2023-12-23T16:52:57.181Z"
   },
   {
    "duration": 5,
    "start_time": "2023-12-23T16:52:57.190Z"
   },
   {
    "duration": 5,
    "start_time": "2023-12-23T16:52:57.197Z"
   },
   {
    "duration": 7,
    "start_time": "2023-12-23T16:52:57.204Z"
   },
   {
    "duration": 2,
    "start_time": "2023-12-23T16:52:57.213Z"
   },
   {
    "duration": 5,
    "start_time": "2023-12-23T16:52:57.217Z"
   },
   {
    "duration": 87,
    "start_time": "2023-12-23T16:52:57.223Z"
   },
   {
    "duration": 3,
    "start_time": "2023-12-23T16:52:57.311Z"
   },
   {
    "duration": 8,
    "start_time": "2023-12-23T16:52:57.315Z"
   },
   {
    "duration": 7,
    "start_time": "2023-12-23T16:52:57.324Z"
   },
   {
    "duration": 5,
    "start_time": "2023-12-23T16:52:57.332Z"
   },
   {
    "duration": 10,
    "start_time": "2023-12-23T16:52:57.338Z"
   },
   {
    "duration": 10227,
    "start_time": "2023-12-23T16:52:57.350Z"
   },
   {
    "duration": 2,
    "start_time": "2023-12-23T16:53:07.578Z"
   },
   {
    "duration": 6,
    "start_time": "2023-12-23T16:53:07.582Z"
   },
   {
    "duration": 29,
    "start_time": "2023-12-23T16:53:07.589Z"
   },
   {
    "duration": 7,
    "start_time": "2023-12-23T16:53:07.619Z"
   },
   {
    "duration": 10,
    "start_time": "2023-12-23T16:53:07.627Z"
   },
   {
    "duration": 9,
    "start_time": "2023-12-23T16:53:07.639Z"
   },
   {
    "duration": 42,
    "start_time": "2023-12-23T16:53:07.649Z"
   },
   {
    "duration": 3,
    "start_time": "2023-12-23T16:53:07.692Z"
   },
   {
    "duration": 4,
    "start_time": "2023-12-23T16:53:07.698Z"
   },
   {
    "duration": 3,
    "start_time": "2023-12-23T16:54:01.911Z"
   },
   {
    "duration": 11,
    "start_time": "2023-12-23T16:54:21.924Z"
   },
   {
    "duration": 6,
    "start_time": "2023-12-23T16:54:22.730Z"
   },
   {
    "duration": 3,
    "start_time": "2023-12-23T16:54:23.871Z"
   },
   {
    "duration": 4,
    "start_time": "2023-12-23T16:54:24.876Z"
   },
   {
    "duration": 2,
    "start_time": "2023-12-23T16:54:52.940Z"
   },
   {
    "duration": 1376,
    "start_time": "2023-12-23T16:55:51.679Z"
   },
   {
    "duration": 45,
    "start_time": "2023-12-23T16:55:53.058Z"
   },
   {
    "duration": 11,
    "start_time": "2023-12-23T16:55:53.104Z"
   },
   {
    "duration": 18,
    "start_time": "2023-12-23T16:55:53.116Z"
   },
   {
    "duration": 8,
    "start_time": "2023-12-23T16:55:53.136Z"
   },
   {
    "duration": 4,
    "start_time": "2023-12-23T16:55:53.145Z"
   },
   {
    "duration": 12,
    "start_time": "2023-12-23T16:55:53.150Z"
   },
   {
    "duration": 4,
    "start_time": "2023-12-23T16:55:53.164Z"
   },
   {
    "duration": 16,
    "start_time": "2023-12-23T16:55:53.170Z"
   },
   {
    "duration": 399,
    "start_time": "2023-12-23T16:55:53.188Z"
   },
   {
    "duration": 3,
    "start_time": "2023-12-23T16:55:53.589Z"
   },
   {
    "duration": 35,
    "start_time": "2023-12-23T16:55:53.593Z"
   },
   {
    "duration": 315,
    "start_time": "2023-12-23T16:55:53.630Z"
   },
   {
    "duration": 263,
    "start_time": "2023-12-23T16:55:53.948Z"
   },
   {
    "duration": 4,
    "start_time": "2023-12-23T16:55:54.213Z"
   },
   {
    "duration": 36,
    "start_time": "2023-12-23T16:55:54.218Z"
   },
   {
    "duration": 45,
    "start_time": "2023-12-23T16:55:54.256Z"
   },
   {
    "duration": 381,
    "start_time": "2023-12-23T16:55:54.302Z"
   },
   {
    "duration": 8,
    "start_time": "2023-12-23T16:55:54.685Z"
   },
   {
    "duration": 14,
    "start_time": "2023-12-23T16:55:54.695Z"
   },
   {
    "duration": 25,
    "start_time": "2023-12-23T16:55:54.711Z"
   },
   {
    "duration": 33,
    "start_time": "2023-12-23T16:55:54.738Z"
   },
   {
    "duration": 31,
    "start_time": "2023-12-23T16:55:54.773Z"
   },
   {
    "duration": 193,
    "start_time": "2023-12-23T16:55:54.806Z"
   },
   {
    "duration": 0,
    "start_time": "2023-12-23T16:55:55.001Z"
   },
   {
    "duration": 0,
    "start_time": "2023-12-23T16:55:55.002Z"
   },
   {
    "duration": 0,
    "start_time": "2023-12-23T16:55:55.003Z"
   },
   {
    "duration": 0,
    "start_time": "2023-12-23T16:55:55.004Z"
   },
   {
    "duration": 0,
    "start_time": "2023-12-23T16:55:55.005Z"
   },
   {
    "duration": 0,
    "start_time": "2023-12-23T16:55:55.007Z"
   },
   {
    "duration": 0,
    "start_time": "2023-12-23T16:55:55.008Z"
   },
   {
    "duration": 0,
    "start_time": "2023-12-23T16:55:55.009Z"
   },
   {
    "duration": 0,
    "start_time": "2023-12-23T16:55:55.010Z"
   },
   {
    "duration": 0,
    "start_time": "2023-12-23T16:55:55.010Z"
   },
   {
    "duration": 0,
    "start_time": "2023-12-23T16:55:55.012Z"
   },
   {
    "duration": 0,
    "start_time": "2023-12-23T16:55:55.013Z"
   },
   {
    "duration": 0,
    "start_time": "2023-12-23T16:55:55.014Z"
   },
   {
    "duration": 0,
    "start_time": "2023-12-23T16:55:55.015Z"
   },
   {
    "duration": 0,
    "start_time": "2023-12-23T16:55:55.016Z"
   },
   {
    "duration": 0,
    "start_time": "2023-12-23T16:55:55.016Z"
   },
   {
    "duration": 0,
    "start_time": "2023-12-23T16:55:55.018Z"
   },
   {
    "duration": 0,
    "start_time": "2023-12-23T16:55:55.018Z"
   },
   {
    "duration": 299,
    "start_time": "2023-12-23T16:57:10.012Z"
   },
   {
    "duration": 362,
    "start_time": "2023-12-23T16:57:18.335Z"
   },
   {
    "duration": 369,
    "start_time": "2023-12-23T16:57:30.134Z"
   },
   {
    "duration": 173,
    "start_time": "2023-12-23T16:59:13.590Z"
   },
   {
    "duration": 277,
    "start_time": "2023-12-23T16:59:24.408Z"
   },
   {
    "duration": 180,
    "start_time": "2023-12-23T16:59:30.995Z"
   },
   {
    "duration": 206,
    "start_time": "2023-12-23T16:59:39.962Z"
   },
   {
    "duration": 170,
    "start_time": "2023-12-23T16:59:44.666Z"
   },
   {
    "duration": 160,
    "start_time": "2023-12-23T16:59:49.943Z"
   },
   {
    "duration": 180,
    "start_time": "2023-12-23T16:59:56.232Z"
   },
   {
    "duration": 85,
    "start_time": "2023-12-23T17:01:23.906Z"
   },
   {
    "duration": 247,
    "start_time": "2023-12-23T17:01:48.074Z"
   },
   {
    "duration": 355,
    "start_time": "2023-12-23T17:02:24.522Z"
   },
   {
    "duration": 1161,
    "start_time": "2023-12-23T17:02:38.249Z"
   },
   {
    "duration": 613,
    "start_time": "2023-12-23T17:02:57.069Z"
   },
   {
    "duration": 671,
    "start_time": "2023-12-23T17:02:59.986Z"
   },
   {
    "duration": 315,
    "start_time": "2023-12-23T17:03:11.242Z"
   },
   {
    "duration": 307,
    "start_time": "2023-12-23T17:03:37.304Z"
   },
   {
    "duration": 7,
    "start_time": "2023-12-23T17:13:00.893Z"
   },
   {
    "duration": 2,
    "start_time": "2023-12-23T17:14:26.103Z"
   },
   {
    "duration": 4,
    "start_time": "2023-12-23T17:14:30.016Z"
   },
   {
    "duration": 4,
    "start_time": "2023-12-23T17:14:58.275Z"
   },
   {
    "duration": 21,
    "start_time": "2023-12-23T17:15:04.934Z"
   },
   {
    "duration": 32,
    "start_time": "2023-12-23T17:15:07.621Z"
   },
   {
    "duration": 34,
    "start_time": "2023-12-23T17:15:29.556Z"
   },
   {
    "duration": 7,
    "start_time": "2023-12-23T17:15:38.481Z"
   },
   {
    "duration": 5,
    "start_time": "2023-12-23T17:15:40.984Z"
   },
   {
    "duration": 5,
    "start_time": "2023-12-23T17:15:46.629Z"
   },
   {
    "duration": 2,
    "start_time": "2023-12-23T17:15:49.691Z"
   },
   {
    "duration": 12,
    "start_time": "2023-12-23T17:15:50.279Z"
   },
   {
    "duration": 2,
    "start_time": "2023-12-23T17:15:52.170Z"
   },
   {
    "duration": 3,
    "start_time": "2023-12-23T17:15:54.286Z"
   },
   {
    "duration": 1980,
    "start_time": "2023-12-23T17:15:56.193Z"
   },
   {
    "duration": 93,
    "start_time": "2023-12-23T17:15:58.176Z"
   },
   {
    "duration": 4,
    "start_time": "2023-12-23T17:15:58.365Z"
   },
   {
    "duration": 9,
    "start_time": "2023-12-23T17:17:12.266Z"
   },
   {
    "duration": 921,
    "start_time": "2023-12-23T17:18:25.345Z"
   },
   {
    "duration": 443,
    "start_time": "2023-12-23T17:18:31.130Z"
   },
   {
    "duration": 15,
    "start_time": "2023-12-23T17:18:54.719Z"
   },
   {
    "duration": 915,
    "start_time": "2023-12-23T17:19:02.252Z"
   },
   {
    "duration": 3,
    "start_time": "2023-12-23T17:19:58.520Z"
   },
   {
    "duration": 2,
    "start_time": "2023-12-23T17:20:00.505Z"
   },
   {
    "duration": 2,
    "start_time": "2023-12-23T17:20:02.986Z"
   },
   {
    "duration": 3,
    "start_time": "2023-12-23T17:21:05.325Z"
   },
   {
    "duration": 9,
    "start_time": "2023-12-23T17:21:23.002Z"
   },
   {
    "duration": 9,
    "start_time": "2023-12-23T17:21:28.925Z"
   },
   {
    "duration": 3,
    "start_time": "2023-12-23T17:21:40.895Z"
   },
   {
    "duration": 492,
    "start_time": "2023-12-23T17:22:30.577Z"
   },
   {
    "duration": 2,
    "start_time": "2023-12-23T17:22:53.541Z"
   },
   {
    "duration": 256,
    "start_time": "2023-12-23T17:22:54.313Z"
   },
   {
    "duration": 3,
    "start_time": "2023-12-23T17:23:14.669Z"
   },
   {
    "duration": 3,
    "start_time": "2023-12-23T17:23:15.213Z"
   },
   {
    "duration": 2,
    "start_time": "2023-12-23T17:23:15.767Z"
   },
   {
    "duration": 29752,
    "start_time": "2023-12-23T17:23:18.433Z"
   },
   {
    "duration": 2,
    "start_time": "2023-12-23T17:23:48.187Z"
   },
   {
    "duration": 33,
    "start_time": "2023-12-23T17:23:48.191Z"
   },
   {
    "duration": 22,
    "start_time": "2023-12-23T17:23:48.226Z"
   },
   {
    "duration": 217,
    "start_time": "2023-12-23T17:26:37.657Z"
   },
   {
    "duration": 3,
    "start_time": "2023-12-23T17:26:48.452Z"
   },
   {
    "duration": 10,
    "start_time": "2023-12-23T17:26:49.231Z"
   },
   {
    "duration": 2,
    "start_time": "2023-12-23T17:26:49.892Z"
   },
   {
    "duration": 3,
    "start_time": "2023-12-23T17:26:50.670Z"
   },
   {
    "duration": 514,
    "start_time": "2023-12-23T17:26:51.359Z"
   },
   {
    "duration": 704,
    "start_time": "2023-12-23T17:26:55.967Z"
   },
   {
    "duration": 30,
    "start_time": "2023-12-23T17:27:10.439Z"
   },
   {
    "duration": 5,
    "start_time": "2023-12-23T17:27:16.932Z"
   },
   {
    "duration": 31,
    "start_time": "2023-12-23T17:27:33.419Z"
   },
   {
    "duration": 880,
    "start_time": "2023-12-23T17:27:53.187Z"
   },
   {
    "duration": 2,
    "start_time": "2023-12-23T17:27:55.147Z"
   },
   {
    "duration": 2,
    "start_time": "2023-12-23T17:27:56.479Z"
   },
   {
    "duration": 2,
    "start_time": "2023-12-23T17:27:57.075Z"
   },
   {
    "duration": 2,
    "start_time": "2023-12-23T17:27:57.367Z"
   },
   {
    "duration": 3,
    "start_time": "2023-12-23T17:27:58.164Z"
   },
   {
    "duration": 2,
    "start_time": "2023-12-23T17:27:58.516Z"
   },
   {
    "duration": 2,
    "start_time": "2023-12-23T17:27:58.909Z"
   },
   {
    "duration": 45178,
    "start_time": "2023-12-23T17:28:00.051Z"
   },
   {
    "duration": 2,
    "start_time": "2023-12-23T17:28:45.231Z"
   },
   {
    "duration": 30,
    "start_time": "2023-12-23T17:28:45.234Z"
   },
   {
    "duration": 31,
    "start_time": "2023-12-23T17:28:45.265Z"
   },
   {
    "duration": 3,
    "start_time": "2023-12-23T17:29:21.295Z"
   },
   {
    "duration": 45256,
    "start_time": "2023-12-23T17:29:23.854Z"
   },
   {
    "duration": 2,
    "start_time": "2023-12-23T17:30:09.112Z"
   },
   {
    "duration": 45,
    "start_time": "2023-12-23T17:30:09.115Z"
   },
   {
    "duration": 15,
    "start_time": "2023-12-23T17:30:09.162Z"
   },
   {
    "duration": 8,
    "start_time": "2023-12-23T17:31:25.939Z"
   },
   {
    "duration": 4,
    "start_time": "2023-12-23T17:31:30.368Z"
   },
   {
    "duration": 3,
    "start_time": "2023-12-23T17:31:30.979Z"
   },
   {
    "duration": 29,
    "start_time": "2023-12-23T17:31:33.260Z"
   },
   {
    "duration": 3,
    "start_time": "2023-12-23T17:31:33.635Z"
   },
   {
    "duration": 3,
    "start_time": "2023-12-23T17:31:34.079Z"
   },
   {
    "duration": 1449,
    "start_time": "2023-12-23T17:31:52.943Z"
   },
   {
    "duration": 47,
    "start_time": "2023-12-23T17:31:54.393Z"
   },
   {
    "duration": 11,
    "start_time": "2023-12-23T17:31:54.441Z"
   },
   {
    "duration": 25,
    "start_time": "2023-12-23T17:31:54.453Z"
   },
   {
    "duration": 35,
    "start_time": "2023-12-23T17:31:54.480Z"
   },
   {
    "duration": 21,
    "start_time": "2023-12-23T17:31:54.517Z"
   },
   {
    "duration": 37,
    "start_time": "2023-12-23T17:31:54.539Z"
   },
   {
    "duration": 28,
    "start_time": "2023-12-23T17:31:54.578Z"
   },
   {
    "duration": 37,
    "start_time": "2023-12-23T17:31:54.607Z"
   },
   {
    "duration": 314,
    "start_time": "2023-12-23T17:31:54.645Z"
   },
   {
    "duration": 397,
    "start_time": "2023-12-23T17:31:54.960Z"
   },
   {
    "duration": 2,
    "start_time": "2023-12-23T17:31:55.365Z"
   },
   {
    "duration": 28,
    "start_time": "2023-12-23T17:31:55.369Z"
   },
   {
    "duration": 269,
    "start_time": "2023-12-23T17:31:55.400Z"
   },
   {
    "duration": 308,
    "start_time": "2023-12-23T17:31:55.671Z"
   },
   {
    "duration": 188,
    "start_time": "2023-12-23T17:31:55.981Z"
   },
   {
    "duration": 4,
    "start_time": "2023-12-23T17:31:56.170Z"
   },
   {
    "duration": 19,
    "start_time": "2023-12-23T17:31:56.175Z"
   },
   {
    "duration": 29,
    "start_time": "2023-12-23T17:31:56.196Z"
   },
   {
    "duration": 366,
    "start_time": "2023-12-23T17:31:56.226Z"
   },
   {
    "duration": 7,
    "start_time": "2023-12-23T17:31:56.593Z"
   },
   {
    "duration": 3,
    "start_time": "2023-12-23T17:31:56.601Z"
   },
   {
    "duration": 4,
    "start_time": "2023-12-23T17:31:56.605Z"
   },
   {
    "duration": 21,
    "start_time": "2023-12-23T17:31:56.610Z"
   },
   {
    "duration": 69,
    "start_time": "2023-12-23T17:31:56.632Z"
   },
   {
    "duration": 6,
    "start_time": "2023-12-23T17:31:56.703Z"
   },
   {
    "duration": 10,
    "start_time": "2023-12-23T17:31:56.711Z"
   },
   {
    "duration": 6,
    "start_time": "2023-12-23T17:31:56.722Z"
   },
   {
    "duration": 5,
    "start_time": "2023-12-23T17:31:56.729Z"
   },
   {
    "duration": 35,
    "start_time": "2023-12-23T17:31:56.736Z"
   },
   {
    "duration": 98,
    "start_time": "2023-12-23T17:31:56.772Z"
   },
   {
    "duration": 3,
    "start_time": "2023-12-23T17:31:56.872Z"
   },
   {
    "duration": 990,
    "start_time": "2023-12-23T17:31:56.876Z"
   },
   {
    "duration": 2,
    "start_time": "2023-12-23T17:31:57.868Z"
   },
   {
    "duration": 6,
    "start_time": "2023-12-23T17:31:57.871Z"
   },
   {
    "duration": 4,
    "start_time": "2023-12-23T17:31:57.878Z"
   },
   {
    "duration": 6,
    "start_time": "2023-12-23T17:31:57.883Z"
   },
   {
    "duration": 5,
    "start_time": "2023-12-23T17:31:57.890Z"
   },
   {
    "duration": 11,
    "start_time": "2023-12-23T17:31:57.896Z"
   },
   {
    "duration": 14,
    "start_time": "2023-12-23T17:31:57.908Z"
   },
   {
    "duration": 19885,
    "start_time": "2023-12-23T17:31:57.925Z"
   },
   {
    "duration": 3,
    "start_time": "2023-12-23T17:32:17.811Z"
   },
   {
    "duration": 17,
    "start_time": "2023-12-23T17:32:17.815Z"
   },
   {
    "duration": 12,
    "start_time": "2023-12-23T17:32:17.833Z"
   },
   {
    "duration": 185,
    "start_time": "2023-12-23T17:32:17.846Z"
   },
   {
    "duration": 9,
    "start_time": "2023-12-23T17:32:18.032Z"
   },
   {
    "duration": 0,
    "start_time": "2023-12-23T17:32:18.042Z"
   },
   {
    "duration": 0,
    "start_time": "2023-12-23T17:32:18.043Z"
   },
   {
    "duration": 0,
    "start_time": "2023-12-23T17:32:18.044Z"
   },
   {
    "duration": 0,
    "start_time": "2023-12-23T17:32:18.045Z"
   },
   {
    "duration": 9,
    "start_time": "2023-12-23T17:33:45.389Z"
   },
   {
    "duration": 19,
    "start_time": "2023-12-23T17:33:46.398Z"
   },
   {
    "duration": 3,
    "start_time": "2023-12-23T17:33:47.065Z"
   },
   {
    "duration": 3,
    "start_time": "2023-12-23T17:33:47.490Z"
   },
   {
    "duration": 8,
    "start_time": "2023-12-23T17:35:11.119Z"
   },
   {
    "duration": 4,
    "start_time": "2023-12-23T17:35:15.902Z"
   },
   {
    "duration": 4,
    "start_time": "2023-12-23T17:35:17.931Z"
   },
   {
    "duration": 2,
    "start_time": "2023-12-23T17:38:21.942Z"
   },
   {
    "duration": 2,
    "start_time": "2023-12-23T17:38:22.346Z"
   },
   {
    "duration": 2,
    "start_time": "2023-12-23T17:38:22.698Z"
   },
   {
    "duration": 3,
    "start_time": "2023-12-23T17:38:41.280Z"
   },
   {
    "duration": 2,
    "start_time": "2023-12-23T17:38:43.785Z"
   },
   {
    "duration": 2,
    "start_time": "2023-12-23T17:38:44.087Z"
   },
   {
    "duration": 82,
    "start_time": "2023-12-23T17:39:38.700Z"
   },
   {
    "duration": 15,
    "start_time": "2023-12-23T17:41:18.645Z"
   },
   {
    "duration": 962,
    "start_time": "2023-12-23T17:43:08.907Z"
   },
   {
    "duration": 401,
    "start_time": "2023-12-23T17:43:16.969Z"
   },
   {
    "duration": 819,
    "start_time": "2023-12-23T17:43:29.055Z"
   },
   {
    "duration": 716,
    "start_time": "2023-12-23T17:43:33.553Z"
   },
   {
    "duration": 596,
    "start_time": "2023-12-23T17:43:49.777Z"
   },
   {
    "duration": 906,
    "start_time": "2023-12-23T17:44:49.360Z"
   },
   {
    "duration": 73,
    "start_time": "2023-12-23T17:47:39.021Z"
   },
   {
    "duration": 183,
    "start_time": "2023-12-23T17:50:48.412Z"
   },
   {
    "duration": 253,
    "start_time": "2023-12-23T17:50:56.925Z"
   },
   {
    "duration": 189,
    "start_time": "2023-12-23T17:51:09.054Z"
   },
   {
    "duration": 174,
    "start_time": "2023-12-23T17:51:25.511Z"
   },
   {
    "duration": 1391,
    "start_time": "2023-12-23T17:59:40.376Z"
   },
   {
    "duration": 47,
    "start_time": "2023-12-23T17:59:41.769Z"
   },
   {
    "duration": 11,
    "start_time": "2023-12-23T17:59:41.817Z"
   },
   {
    "duration": 17,
    "start_time": "2023-12-23T17:59:41.830Z"
   },
   {
    "duration": 14,
    "start_time": "2023-12-23T17:59:41.849Z"
   },
   {
    "duration": 10,
    "start_time": "2023-12-23T17:59:41.864Z"
   },
   {
    "duration": 20,
    "start_time": "2023-12-23T17:59:41.875Z"
   },
   {
    "duration": 19,
    "start_time": "2023-12-23T17:59:41.897Z"
   },
   {
    "duration": 26,
    "start_time": "2023-12-23T17:59:41.918Z"
   },
   {
    "duration": 297,
    "start_time": "2023-12-23T17:59:41.946Z"
   },
   {
    "duration": 362,
    "start_time": "2023-12-23T17:59:42.245Z"
   },
   {
    "duration": 3,
    "start_time": "2023-12-23T17:59:42.609Z"
   },
   {
    "duration": 18,
    "start_time": "2023-12-23T17:59:42.614Z"
   },
   {
    "duration": 256,
    "start_time": "2023-12-23T17:59:42.636Z"
   },
   {
    "duration": 267,
    "start_time": "2023-12-23T17:59:42.893Z"
   },
   {
    "duration": 189,
    "start_time": "2023-12-23T17:59:43.164Z"
   },
   {
    "duration": 194,
    "start_time": "2023-12-23T17:59:43.355Z"
   },
   {
    "duration": 15,
    "start_time": "2023-12-23T17:59:43.551Z"
   },
   {
    "duration": 19,
    "start_time": "2023-12-23T17:59:43.567Z"
   },
   {
    "duration": 14,
    "start_time": "2023-12-23T17:59:43.588Z"
   },
   {
    "duration": 331,
    "start_time": "2023-12-23T17:59:43.603Z"
   },
   {
    "duration": 8,
    "start_time": "2023-12-23T17:59:43.936Z"
   },
   {
    "duration": 22,
    "start_time": "2023-12-23T17:59:43.945Z"
   },
   {
    "duration": 10,
    "start_time": "2023-12-23T17:59:43.968Z"
   },
   {
    "duration": 33,
    "start_time": "2023-12-23T17:59:43.979Z"
   },
   {
    "duration": 33,
    "start_time": "2023-12-23T17:59:44.013Z"
   },
   {
    "duration": 22,
    "start_time": "2023-12-23T17:59:44.048Z"
   },
   {
    "duration": 6,
    "start_time": "2023-12-23T17:59:44.071Z"
   },
   {
    "duration": 9,
    "start_time": "2023-12-23T17:59:44.079Z"
   },
   {
    "duration": 14,
    "start_time": "2023-12-23T17:59:44.089Z"
   },
   {
    "duration": 11,
    "start_time": "2023-12-23T17:59:44.104Z"
   },
   {
    "duration": 50,
    "start_time": "2023-12-23T17:59:44.117Z"
   },
   {
    "duration": 97,
    "start_time": "2023-12-23T17:59:44.169Z"
   },
   {
    "duration": 902,
    "start_time": "2023-12-23T17:59:44.267Z"
   },
   {
    "duration": 3,
    "start_time": "2023-12-23T17:59:45.172Z"
   },
   {
    "duration": 88,
    "start_time": "2023-12-23T17:59:45.177Z"
   },
   {
    "duration": 2,
    "start_time": "2023-12-23T17:59:45.267Z"
   },
   {
    "duration": 14,
    "start_time": "2023-12-23T17:59:45.271Z"
   },
   {
    "duration": 11,
    "start_time": "2023-12-23T17:59:45.286Z"
   },
   {
    "duration": 19,
    "start_time": "2023-12-23T17:59:45.298Z"
   },
   {
    "duration": 30,
    "start_time": "2023-12-23T17:59:45.321Z"
   },
   {
    "duration": 19779,
    "start_time": "2023-12-23T17:59:45.352Z"
   },
   {
    "duration": 3,
    "start_time": "2023-12-23T18:00:05.132Z"
   },
   {
    "duration": 21,
    "start_time": "2023-12-23T18:00:05.136Z"
   },
   {
    "duration": 27,
    "start_time": "2023-12-23T18:00:05.159Z"
   },
   {
    "duration": 12,
    "start_time": "2023-12-23T18:00:05.188Z"
   },
   {
    "duration": 26,
    "start_time": "2023-12-23T18:00:05.202Z"
   },
   {
    "duration": 16,
    "start_time": "2023-12-23T18:00:05.230Z"
   },
   {
    "duration": 28,
    "start_time": "2023-12-23T18:00:05.248Z"
   },
   {
    "duration": 3,
    "start_time": "2023-12-23T18:00:05.278Z"
   },
   {
    "duration": 71,
    "start_time": "2023-12-23T18:00:05.283Z"
   },
   {
    "duration": 38,
    "start_time": "2023-12-23T18:00:05.355Z"
   },
   {
    "duration": 38,
    "start_time": "2023-12-23T18:00:05.395Z"
   },
   {
    "duration": 19,
    "start_time": "2023-12-23T18:00:05.435Z"
   },
   {
    "duration": 1419,
    "start_time": "2023-12-23T18:03:56.733Z"
   },
   {
    "duration": 45,
    "start_time": "2023-12-23T18:03:58.154Z"
   },
   {
    "duration": 10,
    "start_time": "2023-12-23T18:03:58.201Z"
   },
   {
    "duration": 9,
    "start_time": "2023-12-23T18:03:58.213Z"
   },
   {
    "duration": 8,
    "start_time": "2023-12-23T18:03:58.224Z"
   },
   {
    "duration": 3,
    "start_time": "2023-12-23T18:03:58.233Z"
   },
   {
    "duration": 8,
    "start_time": "2023-12-23T18:03:58.237Z"
   },
   {
    "duration": 20,
    "start_time": "2023-12-23T18:03:58.247Z"
   },
   {
    "duration": 13,
    "start_time": "2023-12-23T18:03:58.269Z"
   },
   {
    "duration": 312,
    "start_time": "2023-12-23T18:03:58.283Z"
   },
   {
    "duration": 399,
    "start_time": "2023-12-23T18:03:58.596Z"
   },
   {
    "duration": 3,
    "start_time": "2023-12-23T18:03:58.997Z"
   },
   {
    "duration": 16,
    "start_time": "2023-12-23T18:03:59.001Z"
   },
   {
    "duration": 259,
    "start_time": "2023-12-23T18:03:59.020Z"
   },
   {
    "duration": 271,
    "start_time": "2023-12-23T18:03:59.281Z"
   },
   {
    "duration": 184,
    "start_time": "2023-12-23T18:03:59.553Z"
   },
   {
    "duration": 190,
    "start_time": "2023-12-23T18:03:59.739Z"
   },
   {
    "duration": 3,
    "start_time": "2023-12-23T18:03:59.931Z"
   },
   {
    "duration": 7,
    "start_time": "2023-12-23T18:03:59.936Z"
   },
   {
    "duration": 5,
    "start_time": "2023-12-23T18:03:59.944Z"
   },
   {
    "duration": 379,
    "start_time": "2023-12-23T18:03:59.950Z"
   },
   {
    "duration": 8,
    "start_time": "2023-12-23T18:04:00.331Z"
   },
   {
    "duration": 39,
    "start_time": "2023-12-23T18:04:00.341Z"
   },
   {
    "duration": 45,
    "start_time": "2023-12-23T18:04:00.382Z"
   },
   {
    "duration": 71,
    "start_time": "2023-12-23T18:04:00.429Z"
   },
   {
    "duration": 20,
    "start_time": "2023-12-23T18:04:00.501Z"
   },
   {
    "duration": 40,
    "start_time": "2023-12-23T18:04:00.523Z"
   },
   {
    "duration": 63,
    "start_time": "2023-12-23T18:04:00.565Z"
   },
   {
    "duration": 47,
    "start_time": "2023-12-23T18:04:00.630Z"
   },
   {
    "duration": 55,
    "start_time": "2023-12-23T18:04:00.679Z"
   },
   {
    "duration": 29,
    "start_time": "2023-12-23T18:04:00.737Z"
   },
   {
    "duration": 138,
    "start_time": "2023-12-23T18:04:00.768Z"
   },
   {
    "duration": 958,
    "start_time": "2023-12-23T18:04:00.908Z"
   },
   {
    "duration": 2,
    "start_time": "2023-12-23T18:04:01.869Z"
   },
   {
    "duration": 37,
    "start_time": "2023-12-23T18:04:01.872Z"
   },
   {
    "duration": 45,
    "start_time": "2023-12-23T18:04:01.910Z"
   },
   {
    "duration": 57,
    "start_time": "2023-12-23T18:04:01.956Z"
   },
   {
    "duration": 133,
    "start_time": "2023-12-23T18:04:02.014Z"
   },
   {
    "duration": 46,
    "start_time": "2023-12-23T18:04:02.148Z"
   },
   {
    "duration": 63,
    "start_time": "2023-12-23T18:04:02.196Z"
   },
   {
    "duration": 19989,
    "start_time": "2023-12-23T18:04:02.263Z"
   },
   {
    "duration": 2,
    "start_time": "2023-12-23T18:04:22.254Z"
   },
   {
    "duration": 32,
    "start_time": "2023-12-23T18:04:22.266Z"
   },
   {
    "duration": 24,
    "start_time": "2023-12-23T18:04:22.300Z"
   },
   {
    "duration": 47,
    "start_time": "2023-12-23T18:04:22.325Z"
   },
   {
    "duration": 32,
    "start_time": "2023-12-23T18:04:22.374Z"
   },
   {
    "duration": 15,
    "start_time": "2023-12-23T18:04:22.407Z"
   },
   {
    "duration": 1066899,
    "start_time": "2023-12-23T18:04:22.423Z"
   },
   {
    "duration": 3,
    "start_time": "2023-12-23T18:22:09.324Z"
   },
   {
    "duration": 5,
    "start_time": "2023-12-23T18:22:09.328Z"
   },
   {
    "duration": 17,
    "start_time": "2023-12-23T18:22:09.335Z"
   },
   {
    "duration": 28,
    "start_time": "2023-12-23T18:22:09.353Z"
   },
   {
    "duration": 24,
    "start_time": "2023-12-23T18:22:09.382Z"
   },
   {
    "duration": 10,
    "start_time": "2023-12-23T18:22:09.407Z"
   },
   {
    "duration": 29,
    "start_time": "2023-12-23T18:22:09.419Z"
   },
   {
    "duration": 3,
    "start_time": "2023-12-23T18:22:09.450Z"
   },
   {
    "duration": 9,
    "start_time": "2023-12-23T18:22:09.455Z"
   },
   {
    "duration": 16,
    "start_time": "2023-12-23T18:22:09.465Z"
   },
   {
    "duration": 27,
    "start_time": "2023-12-23T18:22:09.483Z"
   },
   {
    "duration": 17,
    "start_time": "2023-12-23T18:22:09.512Z"
   },
   {
    "duration": 2,
    "start_time": "2023-12-23T18:23:58.830Z"
   },
   {
    "duration": 2,
    "start_time": "2023-12-23T18:24:57.710Z"
   },
   {
    "duration": 2,
    "start_time": "2023-12-23T18:24:57.901Z"
   },
   {
    "duration": 3,
    "start_time": "2023-12-23T18:24:58.090Z"
   },
   {
    "duration": 1457,
    "start_time": "2023-12-23T18:25:45.147Z"
   },
   {
    "duration": 51,
    "start_time": "2023-12-23T18:25:46.605Z"
   },
   {
    "duration": 12,
    "start_time": "2023-12-23T18:25:46.657Z"
   },
   {
    "duration": 47,
    "start_time": "2023-12-23T18:25:46.671Z"
   },
   {
    "duration": 15,
    "start_time": "2023-12-23T18:25:46.721Z"
   },
   {
    "duration": 3,
    "start_time": "2023-12-23T18:25:46.737Z"
   },
   {
    "duration": 23,
    "start_time": "2023-12-23T18:25:46.741Z"
   },
   {
    "duration": 4,
    "start_time": "2023-12-23T18:25:46.766Z"
   },
   {
    "duration": 18,
    "start_time": "2023-12-23T18:25:46.771Z"
   },
   {
    "duration": 301,
    "start_time": "2023-12-23T18:25:46.790Z"
   },
   {
    "duration": 298,
    "start_time": "2023-12-23T18:25:47.092Z"
   },
   {
    "duration": 2,
    "start_time": "2023-12-23T18:25:47.392Z"
   },
   {
    "duration": 62,
    "start_time": "2023-12-23T18:25:47.396Z"
   },
   {
    "duration": 321,
    "start_time": "2023-12-23T18:25:47.461Z"
   },
   {
    "duration": 275,
    "start_time": "2023-12-23T18:25:47.784Z"
   },
   {
    "duration": 184,
    "start_time": "2023-12-23T18:25:48.065Z"
   },
   {
    "duration": 198,
    "start_time": "2023-12-23T18:25:48.251Z"
   },
   {
    "duration": 14,
    "start_time": "2023-12-23T18:25:48.451Z"
   },
   {
    "duration": 4,
    "start_time": "2023-12-23T18:25:48.467Z"
   },
   {
    "duration": 13,
    "start_time": "2023-12-23T18:25:48.472Z"
   },
   {
    "duration": 361,
    "start_time": "2023-12-23T18:25:48.486Z"
   },
   {
    "duration": 7,
    "start_time": "2023-12-23T18:25:48.849Z"
   },
   {
    "duration": 4,
    "start_time": "2023-12-23T18:25:48.865Z"
   },
   {
    "duration": 23,
    "start_time": "2023-12-23T18:25:48.870Z"
   },
   {
    "duration": 35,
    "start_time": "2023-12-23T18:25:48.895Z"
   },
   {
    "duration": 7,
    "start_time": "2023-12-23T18:25:48.931Z"
   },
   {
    "duration": 27,
    "start_time": "2023-12-23T18:25:48.939Z"
   },
   {
    "duration": 4,
    "start_time": "2023-12-23T18:25:48.968Z"
   },
   {
    "duration": 4,
    "start_time": "2023-12-23T18:25:48.974Z"
   },
   {
    "duration": 16,
    "start_time": "2023-12-23T18:25:48.979Z"
   },
   {
    "duration": 79,
    "start_time": "2023-12-23T18:25:48.997Z"
   },
   {
    "duration": 40,
    "start_time": "2023-12-23T18:25:49.166Z"
   },
   {
    "duration": 765,
    "start_time": "2023-12-23T18:25:49.208Z"
   },
   {
    "duration": 4,
    "start_time": "2023-12-23T18:25:50.066Z"
   },
   {
    "duration": 175,
    "start_time": "2023-12-23T18:25:50.071Z"
   },
   {
    "duration": 130,
    "start_time": "2023-12-23T18:25:50.247Z"
   },
   {
    "duration": 103,
    "start_time": "2023-12-23T18:25:50.379Z"
   },
   {
    "duration": 116,
    "start_time": "2023-12-23T18:25:50.484Z"
   },
   {
    "duration": 147,
    "start_time": "2023-12-23T18:25:50.602Z"
   },
   {
    "duration": 76,
    "start_time": "2023-12-23T18:25:50.750Z"
   },
   {
    "duration": 19956,
    "start_time": "2023-12-23T18:25:50.830Z"
   },
   {
    "duration": 2,
    "start_time": "2023-12-23T18:26:10.788Z"
   },
   {
    "duration": 127,
    "start_time": "2023-12-23T18:26:10.791Z"
   },
   {
    "duration": 57,
    "start_time": "2023-12-23T18:26:10.919Z"
   },
   {
    "duration": 16,
    "start_time": "2023-12-23T18:26:10.978Z"
   },
   {
    "duration": 32,
    "start_time": "2023-12-23T18:26:10.996Z"
   },
   {
    "duration": 13,
    "start_time": "2023-12-23T18:26:11.030Z"
   },
   {
    "duration": 12,
    "start_time": "2023-12-23T18:26:11.045Z"
   },
   {
    "duration": 26,
    "start_time": "2023-12-23T18:26:11.059Z"
   },
   {
    "duration": 10,
    "start_time": "2023-12-23T18:26:11.087Z"
   },
   {
    "duration": 10,
    "start_time": "2023-12-23T18:26:11.099Z"
   },
   {
    "duration": 7,
    "start_time": "2023-12-23T18:26:11.110Z"
   },
   {
    "duration": 14,
    "start_time": "2023-12-23T18:26:11.118Z"
   },
   {
    "duration": 8,
    "start_time": "2023-12-23T18:26:11.133Z"
   },
   {
    "duration": 52,
    "start_time": "2023-12-23T18:26:11.143Z"
   },
   {
    "duration": 60,
    "start_time": "2023-12-23T18:26:11.197Z"
   },
   {
    "duration": 96,
    "start_time": "2023-12-23T18:26:11.259Z"
   },
   {
    "duration": 106,
    "start_time": "2023-12-23T18:26:11.356Z"
   },
   {
    "duration": 88,
    "start_time": "2023-12-23T18:26:11.464Z"
   },
   {
    "duration": 68,
    "start_time": "2023-12-23T18:26:11.554Z"
   },
   {
    "duration": 1681,
    "start_time": "2023-12-24T06:50:23.419Z"
   },
   {
    "duration": 135,
    "start_time": "2023-12-24T06:50:25.102Z"
   },
   {
    "duration": 17,
    "start_time": "2023-12-24T06:50:25.239Z"
   },
   {
    "duration": 12,
    "start_time": "2023-12-24T06:50:25.258Z"
   },
   {
    "duration": 12,
    "start_time": "2023-12-24T06:50:25.272Z"
   },
   {
    "duration": 2,
    "start_time": "2023-12-24T06:50:25.286Z"
   },
   {
    "duration": 26,
    "start_time": "2023-12-24T06:50:25.290Z"
   },
   {
    "duration": 7,
    "start_time": "2023-12-24T06:50:25.318Z"
   },
   {
    "duration": 21,
    "start_time": "2023-12-24T06:50:25.331Z"
   },
   {
    "duration": 413,
    "start_time": "2023-12-24T06:50:25.355Z"
   },
   {
    "duration": 326,
    "start_time": "2023-12-24T06:50:25.770Z"
   },
   {
    "duration": 3,
    "start_time": "2023-12-24T06:50:26.098Z"
   },
   {
    "duration": 33,
    "start_time": "2023-12-24T06:50:26.102Z"
   },
   {
    "duration": 263,
    "start_time": "2023-12-24T06:50:26.137Z"
   },
   {
    "duration": 305,
    "start_time": "2023-12-24T06:50:26.401Z"
   },
   {
    "duration": 221,
    "start_time": "2023-12-24T06:50:26.709Z"
   },
   {
    "duration": 208,
    "start_time": "2023-12-24T06:50:26.932Z"
   },
   {
    "duration": 3,
    "start_time": "2023-12-24T06:50:27.142Z"
   },
   {
    "duration": 8,
    "start_time": "2023-12-24T06:50:27.147Z"
   },
   {
    "duration": 6,
    "start_time": "2023-12-24T06:50:27.156Z"
   },
   {
    "duration": 479,
    "start_time": "2023-12-24T06:50:27.163Z"
   },
   {
    "duration": 8,
    "start_time": "2023-12-24T06:50:27.644Z"
   },
   {
    "duration": 5,
    "start_time": "2023-12-24T06:50:27.654Z"
   },
   {
    "duration": 46,
    "start_time": "2023-12-24T06:50:27.661Z"
   },
   {
    "duration": 57,
    "start_time": "2023-12-24T06:50:27.709Z"
   },
   {
    "duration": 11,
    "start_time": "2023-12-24T06:50:27.769Z"
   },
   {
    "duration": 5,
    "start_time": "2023-12-24T06:50:27.782Z"
   },
   {
    "duration": 20,
    "start_time": "2023-12-24T06:50:27.792Z"
   },
   {
    "duration": 5,
    "start_time": "2023-12-24T06:50:27.831Z"
   },
   {
    "duration": 15,
    "start_time": "2023-12-24T06:50:27.837Z"
   },
   {
    "duration": 3,
    "start_time": "2023-12-24T06:50:27.854Z"
   },
   {
    "duration": 76,
    "start_time": "2023-12-24T06:50:27.859Z"
   },
   {
    "duration": 896,
    "start_time": "2023-12-24T06:50:27.941Z"
   },
   {
    "duration": 93,
    "start_time": "2023-12-24T06:50:28.839Z"
   },
   {
    "duration": 97,
    "start_time": "2023-12-24T06:50:28.935Z"
   },
   {
    "duration": 9,
    "start_time": "2023-12-24T06:50:29.034Z"
   },
   {
    "duration": 11,
    "start_time": "2023-12-24T06:50:29.045Z"
   },
   {
    "duration": 6,
    "start_time": "2023-12-24T06:50:29.057Z"
   },
   {
    "duration": 5,
    "start_time": "2023-12-24T06:50:29.064Z"
   },
   {
    "duration": 9,
    "start_time": "2023-12-24T06:50:29.070Z"
   },
   {
    "duration": 21049,
    "start_time": "2023-12-24T06:50:29.081Z"
   },
   {
    "duration": 3,
    "start_time": "2023-12-24T06:50:50.132Z"
   },
   {
    "duration": 19,
    "start_time": "2023-12-24T06:50:50.137Z"
   },
   {
    "duration": 14,
    "start_time": "2023-12-24T06:50:50.157Z"
   },
   {
    "duration": 4,
    "start_time": "2023-12-24T06:50:50.173Z"
   },
   {
    "duration": 13,
    "start_time": "2023-12-24T06:50:50.179Z"
   },
   {
    "duration": 4,
    "start_time": "2023-12-24T06:50:50.194Z"
   },
   {
    "duration": 4,
    "start_time": "2023-12-24T06:50:50.200Z"
   },
   {
    "duration": 11,
    "start_time": "2023-12-24T06:50:50.206Z"
   },
   {
    "duration": 9,
    "start_time": "2023-12-24T06:50:50.219Z"
   },
   {
    "duration": 16,
    "start_time": "2023-12-24T06:50:50.229Z"
   },
   {
    "duration": 8,
    "start_time": "2023-12-24T06:50:50.247Z"
   },
   {
    "duration": 6,
    "start_time": "2023-12-24T06:50:50.256Z"
   },
   {
    "duration": 5,
    "start_time": "2023-12-24T06:50:50.263Z"
   },
   {
    "duration": 27,
    "start_time": "2023-12-24T06:50:50.269Z"
   },
   {
    "duration": 3,
    "start_time": "2023-12-24T06:50:50.298Z"
   },
   {
    "duration": 5,
    "start_time": "2023-12-24T06:50:50.303Z"
   },
   {
    "duration": 5,
    "start_time": "2023-12-24T06:50:50.310Z"
   },
   {
    "duration": 5,
    "start_time": "2023-12-24T06:50:50.316Z"
   },
   {
    "duration": 7,
    "start_time": "2023-12-24T06:50:50.323Z"
   },
   {
    "duration": 1442,
    "start_time": "2023-12-24T06:51:36.477Z"
   },
   {
    "duration": 47,
    "start_time": "2023-12-24T06:51:37.921Z"
   },
   {
    "duration": 12,
    "start_time": "2023-12-24T06:51:37.970Z"
   },
   {
    "duration": 11,
    "start_time": "2023-12-24T06:51:37.984Z"
   },
   {
    "duration": 9,
    "start_time": "2023-12-24T06:51:37.997Z"
   },
   {
    "duration": 16,
    "start_time": "2023-12-24T06:51:38.007Z"
   },
   {
    "duration": 9,
    "start_time": "2023-12-24T06:51:38.025Z"
   },
   {
    "duration": 10,
    "start_time": "2023-12-24T06:51:38.036Z"
   },
   {
    "duration": 16,
    "start_time": "2023-12-24T06:51:38.047Z"
   },
   {
    "duration": 311,
    "start_time": "2023-12-24T06:51:38.065Z"
   },
   {
    "duration": 384,
    "start_time": "2023-12-24T06:51:38.378Z"
   },
   {
    "duration": 3,
    "start_time": "2023-12-24T06:51:38.764Z"
   },
   {
    "duration": 9,
    "start_time": "2023-12-24T06:51:38.769Z"
   },
   {
    "duration": 291,
    "start_time": "2023-12-24T06:51:38.781Z"
   },
   {
    "duration": 290,
    "start_time": "2023-12-24T06:51:39.075Z"
   },
   {
    "duration": 217,
    "start_time": "2023-12-24T06:51:39.367Z"
   },
   {
    "duration": 212,
    "start_time": "2023-12-24T06:51:39.585Z"
   },
   {
    "duration": 4,
    "start_time": "2023-12-24T06:51:39.799Z"
   },
   {
    "duration": 44,
    "start_time": "2023-12-24T06:51:39.805Z"
   },
   {
    "duration": 7,
    "start_time": "2023-12-24T06:51:39.851Z"
   },
   {
    "duration": 402,
    "start_time": "2023-12-24T06:51:39.860Z"
   },
   {
    "duration": 8,
    "start_time": "2023-12-24T06:51:40.264Z"
   },
   {
    "duration": 13,
    "start_time": "2023-12-24T06:51:40.273Z"
   },
   {
    "duration": 30,
    "start_time": "2023-12-24T06:51:40.288Z"
   },
   {
    "duration": 48,
    "start_time": "2023-12-24T06:51:40.319Z"
   },
   {
    "duration": 8,
    "start_time": "2023-12-24T06:51:40.369Z"
   },
   {
    "duration": 25,
    "start_time": "2023-12-24T06:51:40.378Z"
   },
   {
    "duration": 30,
    "start_time": "2023-12-24T06:51:40.405Z"
   },
   {
    "duration": 38,
    "start_time": "2023-12-24T06:51:40.437Z"
   },
   {
    "duration": 34,
    "start_time": "2023-12-24T06:51:40.476Z"
   },
   {
    "duration": 21,
    "start_time": "2023-12-24T06:51:40.513Z"
   },
   {
    "duration": 96,
    "start_time": "2023-12-24T06:51:40.537Z"
   },
   {
    "duration": 904,
    "start_time": "2023-12-24T06:51:40.635Z"
   },
   {
    "duration": 91,
    "start_time": "2023-12-24T06:51:41.541Z"
   },
   {
    "duration": 6,
    "start_time": "2023-12-24T06:51:41.634Z"
   },
   {
    "duration": 5,
    "start_time": "2023-12-24T06:51:41.642Z"
   },
   {
    "duration": 7,
    "start_time": "2023-12-24T06:51:41.648Z"
   },
   {
    "duration": 3,
    "start_time": "2023-12-24T06:51:41.730Z"
   },
   {
    "duration": 5,
    "start_time": "2023-12-24T06:51:41.735Z"
   },
   {
    "duration": 9,
    "start_time": "2023-12-24T06:51:41.742Z"
   },
   {
    "duration": 20738,
    "start_time": "2023-12-24T06:51:41.756Z"
   },
   {
    "duration": 3,
    "start_time": "2023-12-24T06:52:02.497Z"
   },
   {
    "duration": 42,
    "start_time": "2023-12-24T06:52:02.501Z"
   },
   {
    "duration": 6,
    "start_time": "2023-12-24T06:52:02.545Z"
   },
   {
    "duration": 17,
    "start_time": "2023-12-24T06:52:02.553Z"
   },
   {
    "duration": 11,
    "start_time": "2023-12-24T06:52:02.572Z"
   },
   {
    "duration": 4,
    "start_time": "2023-12-24T06:52:02.585Z"
   },
   {
    "duration": 6,
    "start_time": "2023-12-24T06:52:02.590Z"
   },
   {
    "duration": 64,
    "start_time": "2023-12-24T06:52:02.598Z"
   },
   {
    "duration": 36,
    "start_time": "2023-12-24T06:52:02.664Z"
   },
   {
    "duration": 27,
    "start_time": "2023-12-24T06:52:02.702Z"
   },
   {
    "duration": 14,
    "start_time": "2023-12-24T06:52:02.731Z"
   },
   {
    "duration": 40,
    "start_time": "2023-12-24T06:52:02.747Z"
   },
   {
    "duration": 8,
    "start_time": "2023-12-24T06:52:02.789Z"
   },
   {
    "duration": 41,
    "start_time": "2023-12-24T06:52:02.799Z"
   },
   {
    "duration": 20,
    "start_time": "2023-12-24T06:52:02.841Z"
   },
   {
    "duration": 30,
    "start_time": "2023-12-24T06:52:02.864Z"
   },
   {
    "duration": 32,
    "start_time": "2023-12-24T06:52:02.896Z"
   },
   {
    "duration": 16,
    "start_time": "2023-12-24T06:52:02.929Z"
   },
   {
    "duration": 30,
    "start_time": "2023-12-24T06:52:02.947Z"
   }
  ],
  "kernelspec": {
   "display_name": "Python 3 (ipykernel)",
   "language": "python",
   "name": "python3"
  },
  "language_info": {
   "codemirror_mode": {
    "name": "ipython",
    "version": 3
   },
   "file_extension": ".py",
   "mimetype": "text/x-python",
   "name": "python",
   "nbconvert_exporter": "python",
   "pygments_lexer": "ipython3",
   "version": "3.11.5"
  },
  "toc": {
   "base_numbering": 1,
   "nav_menu": {},
   "number_sections": true,
   "sideBar": true,
   "skip_h1_title": true,
   "title_cell": "Содержание",
   "title_sidebar": "Contents",
   "toc_cell": true,
   "toc_position": {},
   "toc_section_display": true,
   "toc_window_display": true
  }
 },
 "nbformat": 4,
 "nbformat_minor": 2
}
